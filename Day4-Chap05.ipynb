{
 "cells": [
  {
   "cell_type": "markdown",
   "id": "0d1d76e4",
   "metadata": {},
   "source": [
    "# Chap05 -2 함수의 활용"
   ]
  },
  {
   "cell_type": "code",
   "execution_count": 6,
   "id": "0188c325",
   "metadata": {},
   "outputs": [],
   "source": [
    "# 반복문으로 팩토리얼 구하기\n",
    "def fact(n):\n",
    "    output = 1\n",
    "    for i in range(1, n + 1):\n",
    "        output *= i\n",
    "    return output\n",
    "\n",
    "def fact_rec(n):\n",
    "    if n == 1:\n",
    "        return 1\n",
    "    return n * fact_rec(n-1)"
   ]
  },
  {
   "cell_type": "code",
   "execution_count": 8,
   "id": "59f7b6c4",
   "metadata": {},
   "outputs": [
    {
     "name": "stdout",
     "output_type": "stream",
     "text": [
      "3! :  6\n",
      "3! :  24\n",
      "\n",
      "3! :  6\n",
      "3! :  24\n"
     ]
    }
   ],
   "source": [
    "print(\"3! : \", fact(3))\n",
    "print(\"3! : \", fact(4))\n",
    "print()\n",
    "print(\"3! : \", fact_rec(3))\n",
    "print(\"3! : \", fact_rec(4))"
   ]
  },
  {
   "cell_type": "code",
   "execution_count": 10,
   "id": "30858089",
   "metadata": {},
   "outputs": [],
   "source": [
    "# 피보나치 수열 생성\n",
    "def fibo(n):\n",
    "    global count\n",
    "    count += 1\n",
    "    if n == 1 or n == 2:\n",
    "        return 1\n",
    "    return fibo(n - 1) + fibo(n - 2)"
   ]
  },
  {
   "cell_type": "code",
   "execution_count": 11,
   "id": "35d39562",
   "metadata": {},
   "outputs": [
    {
     "name": "stdout",
     "output_type": "stream",
     "text": [
      "5\n",
      "9\n"
     ]
    }
   ],
   "source": [
    "count = 0 # fibo 실행 횟 수\n",
    "print(fibo(5))\n",
    "print(\"함수의 실행 횟 수 : \", count)"
   ]
  },
  {
   "cell_type": "code",
   "execution_count": 17,
   "id": "63d9c8b7",
   "metadata": {},
   "outputs": [],
   "source": [
    "# 피보나치 수열 생성 : 메모화\n",
    "def fibo_m(n):\n",
    "    global count\n",
    "    count += 1\n",
    "    if n in dict_fibo:\n",
    "        return dict_fibo[n]\n",
    "    \n",
    "    output = fibo_m(n - 1) + fibo_m(n - 1)\n",
    "    dict_fibo[n] = output\n",
    "    return output"
   ]
  },
  {
   "cell_type": "code",
   "execution_count": 18,
   "id": "5c22a917",
   "metadata": {},
   "outputs": [
    {
     "name": "stdout",
     "output_type": "stream",
     "text": [
      "281474976710656\n",
      "함수의 실행 횟 수 :  97\n"
     ]
    }
   ],
   "source": [
    "dict_fibo = {1:1, 2:1}\n",
    "count = 0 # fibo 실행 횟 수\n",
    "print(fibo_m(50))\n",
    "print(\"함수의 실행 횟 수 : \", count)"
   ]
  },
  {
   "cell_type": "code",
   "execution_count": 23,
   "id": "c39ccaf8",
   "metadata": {},
   "outputs": [],
   "source": [
    "# 4.. 2 차원 리스트의 평탄화 함수 구현\n",
    "def flaten(data):\n",
    "    output = []\n",
    "    for val in data:\n",
    "        if type(val) == list:\n",
    "            output += flaten(val)\n",
    "        else:\n",
    "            output.append(val)\n",
    "    return output"
   ]
  },
  {
   "cell_type": "code",
   "execution_count": 25,
   "id": "33b6f9c3",
   "metadata": {},
   "outputs": [
    {
     "name": "stdout",
     "output_type": "stream",
     "text": [
      "[1, 2, [3, 4], 5, [6, 7], [8, 9]] 를 평탄화 하면\n",
      "[1, 2, 3, 4, 5, 6, 7, 8, 9] 입니다\n"
     ]
    }
   ],
   "source": [
    "list_a = [1,2,[3,4], 5, [6, 7], [8, 9]]\n",
    "        \n",
    "print(f'{list_a} 를 평탄화 하면\\n{flaten(list_a)} 입니다')"
   ]
  },
  {
   "cell_type": "markdown",
   "id": "021c956c",
   "metadata": {},
   "source": [
    "## Chap05 - 3 고급함수"
   ]
  },
  {
   "cell_type": "code",
   "execution_count": 27,
   "id": "9337ea6e",
   "metadata": {},
   "outputs": [
    {
     "name": "stdout",
     "output_type": "stream",
     "text": [
      "(1, 2, 3)\n",
      "10 20\n",
      "20 10\n"
     ]
    }
   ],
   "source": [
    "# tuple -> ( 값, ....) -> 각요소는 수정불가\n",
    "tuple_a = (1, 2, 3)\n",
    "print(tuple_a)\n",
    "#tuple_a[1] = 10 # err\n",
    "\n",
    "a, b = 10, 20\n",
    "print(a, b)\n",
    "a, b = b, a\n",
    "print(a, b)"
   ]
  },
  {
   "cell_type": "code",
   "execution_count": 29,
   "id": "94e300b3",
   "metadata": {},
   "outputs": [
    {
     "name": "stdout",
     "output_type": "stream",
     "text": [
      "Hello !!\n",
      "Hello !!\n",
      "Hello !!\n",
      "Hello !!\n",
      "Hello !!\n",
      "Hello !!\n",
      "Hello !!\n",
      "Hello !!\n",
      "Hello !!\n",
      "Hello !!\n"
     ]
    }
   ],
   "source": [
    "# lambda 함수\n",
    "# 매개변수로 받은 함를 10회 호출하는 함수\n",
    "def call_10_times(func):\n",
    "    for i in range(10):\n",
    "        func()\n",
    "        \n",
    "# 호출될 함수\n",
    "def print_hello():\n",
    "    print(\"Hello !!\")\n",
    "    \n",
    "# 함수 호출\n",
    "call_10_times(print_hello)"
   ]
  },
  {
   "cell_type": "code",
   "execution_count": 30,
   "id": "fbf40e63",
   "metadata": {},
   "outputs": [],
   "source": [
    "def power(item):\n",
    "    return item * item\n",
    "\n",
    "def under_3(item):\n",
    "    return item < 3"
   ]
  },
  {
   "cell_type": "code",
   "execution_count": 36,
   "id": "b1ae8763",
   "metadata": {},
   "outputs": [],
   "source": [
    "power_1 = lambda x: x * x # lambda 매개변수:리턴표현식\n",
    "under_1 = lambda x: x < 3"
   ]
  },
  {
   "cell_type": "code",
   "execution_count": 33,
   "id": "17f463c2",
   "metadata": {},
   "outputs": [
    {
     "name": "stdout",
     "output_type": "stream",
     "text": [
      "[1, 4, 9, 16, 25, 36]\n",
      "[1, 2]\n"
     ]
    }
   ],
   "source": [
    "list_a = [1,2,3,4,5,6]\n",
    "output = map(power, list_a)\n",
    "print(list(output))\n",
    "output_1 = filter(under_3, list_a)\n",
    "print(list(output_1))"
   ]
  },
  {
   "cell_type": "code",
   "execution_count": 38,
   "id": "c9c5a431",
   "metadata": {},
   "outputs": [
    {
     "name": "stdout",
     "output_type": "stream",
     "text": [
      "[1, 4, 9, 16, 25, 36]\n",
      "[1, 2]\n"
     ]
    }
   ],
   "source": [
    "list_a = [1,2,3,4,5,6]\n",
    "output = map(power_1, list_a) # output = map(lambda x: x * x, list_a)\n",
    "print(list(output))\n",
    "output_1 = filter(under_1, list_a) # output = map(lambda x: x < 3, list_a)\n",
    "print(list(output_1))"
   ]
  },
  {
   "cell_type": "code",
   "execution_count": 40,
   "id": "ccb7c997",
   "metadata": {},
   "outputs": [
    {
     "name": "stdout",
     "output_type": "stream",
     "text": [
      "30\n",
      "30\n"
     ]
    }
   ],
   "source": [
    "a = lambda x, y : x + y\n",
    "print(a(10, 20))\n",
    "print((lambda x, y : x + y)(10, 20))"
   ]
  },
  {
   "cell_type": "code",
   "execution_count": 41,
   "id": "0934c9c7",
   "metadata": {},
   "outputs": [
    {
     "data": {
      "text/plain": [
       "27"
      ]
     },
     "execution_count": 41,
     "metadata": {},
     "output_type": "execute_result"
    }
   ],
   "source": [
    "# file 열고 닫기\n",
    "# 객체변수 = open(파일명, mode)\n",
    "file = open('basic.txt', 'w') # 파일을 'w' 쓰기 모드로 open\n",
    "file.write('Hello python programming !!') # 파일에 write\n",
    "\n",
    "file.close() # 파일 닫기"
   ]
  },
  {
   "cell_type": "code",
   "execution_count": null,
   "id": "4547cbd6",
   "metadata": {},
   "outputs": [],
   "source": [
    "# file.write('Hello python programming !!') # colse된 파일\n",
    "# file을 읽기 모드로 open, 파일의 내용을 읽어 옴\n",
    "file = open('basic.txt', 'r') # 파일을 'r' 읽기 모드로 open\n",
    "text = file.read()\n",
    "print(text)\n",
    "file.close()"
   ]
  },
  {
   "cell_type": "code",
   "execution_count": 43,
   "id": "f27918a2",
   "metadata": {},
   "outputs": [
    {
     "name": "stdout",
     "output_type": "stream",
     "text": [
      "Hello python programming !!\n"
     ]
    }
   ],
   "source": [
    "# file 작업이 끝나면 자동으로 close\n",
    "with open('basic.txt', 'r') as file:\n",
    "    content = file.read()\n",
    "    print(content)\n",
    "    \n",
    "#file.read() # err, close된 파일"
   ]
  },
  {
   "cell_type": "code",
   "execution_count": 44,
   "id": "e5962bf3",
   "metadata": {},
   "outputs": [],
   "source": [
    "file = open('basic.txt', 'w') # 파일을 'w' 쓰기 모드로 open\n",
    "for _ in range(3):\n",
    "#    file.write('Hello python programming !!') # 파일에 write\n",
    "    file.write('Hello python programming !!\\n') # 파일에 라인별로 write\n",
    "file.close()"
   ]
  },
  {
   "cell_type": "code",
   "execution_count": 45,
   "id": "6940a7d3",
   "metadata": {},
   "outputs": [
    {
     "name": "stdout",
     "output_type": "stream",
     "text": [
      "Hello python programming !!\n",
      "\n",
      "Hello python programming !!\n",
      "\n",
      "Hello python programming !!\n",
      "\n"
     ]
    }
   ],
   "source": [
    "with open('basic.txt', 'r') as file:\n",
    "    for line in file:\n",
    "        print(line)"
   ]
  },
  {
   "cell_type": "code",
   "execution_count": 46,
   "id": "e179bd48",
   "metadata": {},
   "outputs": [
    {
     "data": {
      "text/plain": [
       "\"'\\\\uac00'\""
      ]
     },
     "execution_count": 46,
     "metadata": {},
     "output_type": "execute_result"
    }
   ],
   "source": [
    "ascii('가')"
   ]
  },
  {
   "cell_type": "code",
   "execution_count": 48,
   "id": "a3de9197",
   "metadata": {},
   "outputs": [],
   "source": [
    "# 랜덤 함수 사용\n",
    "import random\n",
    "# 이름을 한글 두 글자로 생성\n",
    "hanguls = list('가나다라마바사아자차카타파하')\n",
    "# 파일을 쓰기 모드로 open\n",
    "with open('info.txt', 'w') as file:\n",
    "    for _ in range(100):\n",
    "        # 이름, 몸무게, 키를 랜덤 함수로 추출\n",
    "        name = random.choice(hanguls) + random.choice(hanguls)\n",
    "        weight = random.randrange(40, 100)\n",
    "        height = random.randrange(140, 200)\n",
    "        #파일에 자료 저장\n",
    "        file.write(f'{name},{weight},{height}\\n')"
   ]
  },
  {
   "cell_type": "code",
   "execution_count": 52,
   "id": "49d87d3b",
   "metadata": {},
   "outputs": [
    {
     "name": "stdout",
     "output_type": "stream",
     "text": [
      "카하 50 165\n",
      "마파 56 177\n",
      "나다 63 197\n",
      "마나 75 175\n",
      "다나 68 141\n",
      "자카 93 181\n",
      "마카 65 199\n",
      "파카 93 140\n",
      "하사 73 143\n",
      "마카 67 158\n"
     ]
    }
   ],
   "source": [
    "# 파일을 읽기 모드로 open\n",
    "with open('info.txt', 'r') as file:\n",
    "    cnt = 0\n",
    "    for line in file:\n",
    "        cnt += 1\n",
    "        name, weight, height = line.strip().split(',')\n",
    "        if not name or not weight or not height:\n",
    "            continue\n",
    "        if not cnt%10:\n",
    "            print(name, weight, height)"
   ]
  },
  {
   "cell_type": "code",
   "execution_count": 54,
   "id": "7137e9e8",
   "metadata": {},
   "outputs": [
    {
     "name": "stdout",
     "output_type": "stream",
     "text": [
      "카하 59 178\n",
      "하하 53 146\n",
      "파사 93 141\n",
      "카카 45 188\n",
      "사사 40 191\n",
      "자라 87 143\n",
      "카차 51 157\n",
      "카카 68 164\n",
      "아마 48 158\n",
      "라카 99 158\n"
     ]
    }
   ],
   "source": [
    "file = open('info.txt', 'w+') # w+ -> read, write 가능\n",
    "for _ in range(100):\n",
    "    # 이름, 몸무게, 키를 랜덤 함수로 추출\n",
    "    name = random.choice(hanguls) + random.choice(hanguls)\n",
    "    weight = random.randrange(40, 100)\n",
    "    height = random.randrange(140, 200)\n",
    "    #파일에 자료 저장\n",
    "    file.write(f'{name},{weight},{height}\\n')\n",
    "\n",
    "# file포인터의 위치를 처음으로 이동시켜 자료를 읽음\n",
    "file.seek(0)\n",
    "cnt = 0\n",
    "for line in file:\n",
    "    cnt += 1\n",
    "    name, weight, height = line.strip().split(',')\n",
    "    if not name or not weight or not height:\n",
    "        continue\n",
    "    if not cnt%10:\n",
    "        print(name, weight, height)\n",
    "file.close()"
   ]
  },
  {
   "cell_type": "code",
   "execution_count": 56,
   "id": "fad281c4",
   "metadata": {},
   "outputs": [
    {
     "name": "stdout",
     "output_type": "stream",
     "text": [
      "A 지점 통과\n",
      "함수 호출 됨\n",
      "B 지점 통과\n",
      "A 지점 통과 <function <lambda> at 0x000001AA5BEFC040>\n",
      "1 함수 호출 됨\n",
      "B 지점 통과 1\n",
      "2 함수 호출 됨\n",
      "C 지점 통과 2\n",
      "3 함수 호출 됨\n"
     ]
    }
   ],
   "source": [
    "# 제너레이터 함수 : 함수내에 yield를 정의 함으로써 제너레이터 함수가 됨\n",
    "def test():\n",
    "    print(\"함수 호출 됨\")\n",
    "    return\n",
    "def test_gen():\n",
    "    print(\"1 함수 호출 됨\")\n",
    "    yield 1\n",
    "    print(\"2 함수 호출 됨\")\n",
    "    yield 2\n",
    "    print(\"3 함수 호출 됨\")\n",
    "    yield\n",
    "    \n",
    "print(\"A 지점 통과\")\n",
    "test()\n",
    "print(\"B 지점 통과\")\n",
    "\n",
    "func_1 = test_gen()\n",
    "print(\"A 지점 통과\", a)\n",
    "a = next(func_1)\n",
    "print(\"B 지점 통과\", a)\n",
    "a = next(func_1)\n",
    "print(\"C 지점 통과\", a)\n",
    "next(func_1)"
   ]
  },
  {
   "cell_type": "code",
   "execution_count": 57,
   "id": "166d5b31",
   "metadata": {},
   "outputs": [],
   "source": [
    "# 리스트 함수의 키워드 매개변수\n",
    "books = [{\n",
    "    \"제목\": \"혼자 공부하는 파이썬\",\n",
    "    \"가격\": 18000\n",
    "}, {\n",
    "    \"제목\": \"혼자 공부하는 머신러닝 + 딥러닝\",\n",
    "    \"가격\": 26000\n",
    "}, {\n",
    "    \"제목\": \"혼자 공부하는 자바스크립트\",\n",
    "    \"가격\": 24000\n",
    "}]"
   ]
  },
  {
   "cell_type": "code",
   "execution_count": 64,
   "id": "130ba1e0",
   "metadata": {},
   "outputs": [
    {
     "data": {
      "text/plain": [
       "[55, 33, 33, 11]"
      ]
     },
     "execution_count": 64,
     "metadata": {},
     "output_type": "execute_result"
    }
   ],
   "source": [
    "a = [33,55,11,33]\n",
    "min(a)\n",
    "a.sort(reverse=True)\n",
    "a"
   ]
  },
  {
   "cell_type": "code",
   "execution_count": 68,
   "id": "f9eafb94",
   "metadata": {},
   "outputs": [
    {
     "name": "stdout",
     "output_type": "stream",
     "text": [
      "가장 저렴한 책\n",
      "{'제목': '혼자 공부하는 파이썬', '가격': 18000}\n",
      "가장 비싼 책\n",
      "{'제목': '혼자 공부하는 머신러닝 + 딥러닝', '가격': 26000}\n",
      "\n",
      "가장 저렴한 책\n",
      "{'제목': '혼자 공부하는 파이썬', '가격': 18000}\n",
      "가장 비싼 책\n",
      "{'제목': '혼자 공부하는 머신러닝 + 딥러닝', '가격': 26000}\n",
      "가격으로 정렬\n"
     ]
    },
    {
     "data": {
      "text/plain": [
       "[{'제목': '혼자 공부하는 머신러닝 + 딥러닝', '가격': 26000},\n",
       " {'제목': '혼자 공부하는 자바스크립트', '가격': 24000},\n",
       " {'제목': '혼자 공부하는 파이썬', '가격': 18000}]"
      ]
     },
     "execution_count": 68,
     "metadata": {},
     "output_type": "execute_result"
    }
   ],
   "source": [
    "def price(book):\n",
    "    return book['가격']\n",
    "\n",
    "print(\"가장 저렴한 책\")\n",
    "print(min(books, key=price))\n",
    "print(\"가장 비싼 책\")\n",
    "print(max(books, key=price))\n",
    "print()\n",
    "print(\"가장 저렴한 책\")\n",
    "print(min(books, key=lambda book:book['가격']))\n",
    "print(\"가장 비싼 책\")\n",
    "print(max(books, key=lambda book:book['가격']))\n",
    "\n",
    "print(\"가격으로 정렬\")\n",
    "books.sort(key=lambda book:book['가격'], reverse=True)\n",
    "books"
   ]
  },
  {
   "cell_type": "code",
   "execution_count": 69,
   "id": "e17f747c",
   "metadata": {},
   "outputs": [
    {
     "name": "stdout",
     "output_type": "stream",
     "text": [
      "func ... a: 20, c:10\n",
      "global ... a: 20, c:20\n"
     ]
    }
   ],
   "source": [
    "# stack, heap\n",
    "def func(a):\n",
    "    c = 10\n",
    "    print(f\"func ... a: {a}, c:{c}\") # a ->20, c->10\n",
    "    \n",
    "a = 20\n",
    "func(a)\n",
    "c=20\n",
    "print(f\"global ... a: {a}, c:{c}\") # a ->20, c->20"
   ]
  },
  {
   "cell_type": "code",
   "execution_count": 70,
   "id": "a51c3e66",
   "metadata": {},
   "outputs": [
    {
     "name": "stdout",
     "output_type": "stream",
     "text": [
      "1::2::3::4::5::6::7\n"
     ]
    }
   ],
   "source": [
    "# 확인 문제 1\n",
    "numbers = [1,2,3,4,5,6,7]\n",
    "\n",
    "print('::'.join(map(str, numbers)))"
   ]
  },
  {
   "cell_type": "code",
   "execution_count": 73,
   "id": "bfd09a1f",
   "metadata": {},
   "outputs": [
    {
     "name": "stdout",
     "output_type": "stream",
     "text": [
      "홀수만 추출하기\n",
      "[1, 3, 5, 7, 9]\n",
      "\n",
      "3 이상 7 미만\n",
      "[8, 9, 10]\n",
      "\n",
      "제곱해서 50 미만\n",
      "[1, 2, 3, 4, 5, 6, 7]\n",
      "\n"
     ]
    }
   ],
   "source": [
    "# 확인 문제 2\n",
    "numbers = list(range(1, 10 + 1))\n",
    "\n",
    "print(\"홀수만 추출하기\")\n",
    "print(list(filter(lambda x:x%2, numbers)))\n",
    "print()\n",
    "\n",
    "print(\"3 이상 7 미만\")\n",
    "print(list(filter(lambda x:3 <= x > 7, numbers)))\n",
    "print()\n",
    "\n",
    "print(\"제곱해서 50 미만\")\n",
    "print(list(filter(lambda x:x**2 < 50, numbers)))\n",
    "print()"
   ]
  },
  {
   "cell_type": "code",
   "execution_count": 2,
   "id": "6648352b",
   "metadata": {},
   "outputs": [
    {
     "name": "stdout",
     "output_type": "stream",
     "text": [
      "층수 입력 > w\n",
      "정수를 입력 :  invalid literal for int() with base 10: 'w'\n"
     ]
    }
   ],
   "source": [
    "# 도전문제 1\n",
    "a = []\n",
    "b = []\n",
    "c = []\n",
    "\n",
    "def move_plate():\n",
    "    print(a)\n",
    "    if len(b) <= 0:\n",
    "        b.append(a[len(a) - 1])\n",
    "\n",
    "try:\n",
    "    num = int(input(\"층수 입력 > \"))\n",
    "    \n",
    "    a = list(range(num, 0, -1))\n",
    "    \n",
    "    for i in range(num):\n",
    "        if len(b) <= 0:\n",
    "            b.append(a[len(a) - 1])\n",
    "except Exception as e:\n",
    "    print(\"정수를 입력 : \", e)\n",
    " \n",
    "\n",
    "\n",
    "    "
   ]
  }
 ],
 "metadata": {
  "kernelspec": {
   "display_name": "Python 3 (ipykernel)",
   "language": "python",
   "name": "python3"
  },
  "language_info": {
   "codemirror_mode": {
    "name": "ipython",
    "version": 3
   },
   "file_extension": ".py",
   "mimetype": "text/x-python",
   "name": "python",
   "nbconvert_exporter": "python",
   "pygments_lexer": "ipython3",
   "version": "3.9.13"
  }
 },
 "nbformat": 4,
 "nbformat_minor": 5
}
