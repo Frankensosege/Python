{
 "cells": [
  {
   "cell_type": "code",
   "execution_count": null,
   "id": "6445a988",
   "metadata": {},
   "outputs": [],
   "source": [
    "###### 계산식을 입력 받아 부호에 맞는 계산식을 출력 elif, else 사용\n",
    "# 10 + 20 -> 10 + 20 = 30 -> 부호는 (+, -, *, /)\n",
    "# 처음 숫자에 'q' 가 입력되면 프로그램 종료\n",
    "\n",
    "while True:\n",
    "    formul = input('계산식을 입력하세요 ex) 10 + 20 > ')\n",
    "    if formul.upper() == 'Q':\n",
    "        break\n",
    "    formul = formul.split()\n",
    "    if len(formul) == 3 and formul[1] in '+-*/':\n",
    "        if not (formul[0].isdecimal() or formul[2].isdecimal()):\n",
    "            print('계산식 및 숫자를 확인해 주세요')\n",
    "            continue\n",
    "        a = int(formul[0])\n",
    "        b = int(formul[2])\n",
    "        if formul[1] == '+':\n",
    "            ans = a + b\n",
    "        elif formul[1] == '-':\n",
    "            ans = a - b\n",
    "        elif formul[1] == '*':\n",
    "            ans = a * b\n",
    "        else:\n",
    "            ans = a / b\n",
    "\n",
    "        print('{} {} {} = {}'.format(formul[0], formul[1], formul[2], ans))\n",
    "    else:\n",
    "        print('계산식 및 부호를 확인해 주세요')\n",
    "print('Program End !!!')"
   ]
  }
 ],
 "metadata": {
  "kernelspec": {
   "display_name": "Python 3 (ipykernel)",
   "language": "python",
   "name": "python3"
  },
  "language_info": {
   "codemirror_mode": {
    "name": "ipython",
    "version": 3
   },
   "file_extension": ".py",
   "mimetype": "text/x-python",
   "name": "python",
   "nbconvert_exporter": "python",
   "pygments_lexer": "ipython3",
   "version": "3.9.13"
  }
 },
 "nbformat": 4,
 "nbformat_minor": 5
}
