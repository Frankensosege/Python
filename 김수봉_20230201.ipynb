{
 "cells": [
  {
   "cell_type": "code",
   "execution_count": 16,
   "id": "a585c87b",
   "metadata": {},
   "outputs": [
    {
     "name": "stdout",
     "output_type": "stream",
     "text": [
      "- 100 이상의 수 :  273\n",
      "- 100 이상의 수 :  103\n",
      "- 100 이상의 수 :  800\n"
     ]
    }
   ],
   "source": [
    "# Chap4-1 연습문제 2\n",
    "numbers = [273, 103, 5, 32, 65, 9, 72, 800, 99]\n",
    "\n",
    "for number in numbers:\n",
    "    if number > 100:\n",
    "        print(\"- 100 이상의 수 : \", number)"
   ]
  },
  {
   "cell_type": "code",
   "execution_count": 19,
   "id": "454781aa",
   "metadata": {},
   "outputs": [
    {
     "name": "stdout",
     "output_type": "stream",
     "text": [
      "273 는 홀수 입니다\t273 는 3 자릿수 입니다\n",
      "103 는 홀수 입니다\t103 는 3 자릿수 입니다\n",
      "5 는 홀수 입니다\t5 는 1 자릿수 입니다\n",
      "32 는 짝수 입니다\t32 는 2 자릿수 입니다\n",
      "65 는 홀수 입니다\t65 는 2 자릿수 입니다\n",
      "9 는 홀수 입니다\t9 는 1 자릿수 입니다\n",
      "72 는 짝수 입니다\t72 는 2 자릿수 입니다\n",
      "800 는 짝수 입니다\t800 는 3 자릿수 입니다\n",
      "99 는 홀수 입니다\t99 는 2 자릿수 입니다\n"
     ]
    }
   ],
   "source": [
    "# Chap4-1 연습문제 3\n",
    "for number in numbers:\n",
    "    if number % 2:\n",
    "        print(f\"{number} 는 홀수 입니다\", end='\\t')\n",
    "    else:\n",
    "        print(f\"{number} 는 짝수 입니다\", end='\\t')\n",
    "        \n",
    "    print(f\"{number} 는 {len(str(number))} 자릿수 입니다\")\n",
    "    "
   ]
  },
  {
   "cell_type": "code",
   "execution_count": 1,
   "id": "70d4caf6",
   "metadata": {},
   "outputs": [
    {
     "name": "stdout",
     "output_type": "stream",
     "text": [
      "[[3, 6, 9], [1, 4, 7], [2, 5, 8]]\n"
     ]
    }
   ],
   "source": [
    "# Chap4-1 연습문제 4\n",
    "numbers = [1, 2, 3, 4, 5, 6, 7, 8, 9]\n",
    "output = [[], [], []]\n",
    "\n",
    "for number in numbers:\n",
    "    output[number%3].append(number)\n",
    "print(output)"
   ]
  },
  {
   "cell_type": "code",
   "execution_count": 7,
   "id": "e7e08648",
   "metadata": {},
   "outputs": [
    {
     "name": "stdout",
     "output_type": "stream",
     "text": [
      "i = 0, j = 1\n",
      "i = 1, j = 3\n",
      "i = 2, j = 5\n",
      "i = 3, j = 7\n",
      "[1, 4, 3, 16, 5, 36, 7, 64, 9]\n"
     ]
    }
   ],
   "source": [
    "# Chap4-1 연습문제 5\n",
    "\n",
    "numbers = [1, 2, 3, 4, 5, 6, 7, 8, 9]\n",
    "for i in range(0, len(numbers) // 2):\n",
    "    # j 가 1, 3, 5, 7 이 나오도록\n",
    "    j = ((i+1) * 2) - 1\n",
    "    print(f\"i = {i}, j = {j}\")\n",
    "    numbers[j] = numbers[j] ** 2\n",
    "\n",
    "print(numbers)"
   ]
  },
  {
   "cell_type": "code",
   "execution_count": null,
   "id": "fb5ef42a",
   "metadata": {},
   "outputs": [],
   "source": [
    "# 1. 학생수 입력\n",
    "# 2. 입력한 학생수 만큼 이름을 키로 성적을 값으로\n",
    "# 3. 검색할 이른을 입력받아 성적 출력 하고 없는 경우 자료없음 출력\n",
    "\n",
    "std_cnt = int(input('학생 수 > '))\n",
    "scores = {}\n",
    "for _ in range(std_cnt):\n",
    "    name = input('이름 > ')\n",
    "    score = input('점수 >')\n",
    "    scores[name] = score"
   ]
  },
  {
   "cell_type": "code",
   "execution_count": null,
   "id": "e70f919a",
   "metadata": {},
   "outputs": [],
   "source": [
    "key = input('확인할 이름 > ')\n",
    "\n",
    "if scores.get(key):\n",
    "    print(f\"{key} 학생의 성적은 {scores.get(key)} 입니다.\")\n",
    "else:\n",
    "    print(f\"{key} 학생의 성적은 없습니다.\")"
   ]
  },
  {
   "cell_type": "code",
   "execution_count": 1,
   "id": "c2549ee4",
   "metadata": {},
   "outputs": [
    {
     "name": "stdout",
     "output_type": "stream",
     "text": [
      "name : 기사\n",
      "leve : 12\n",
      "sword : 불꽃의 검\n",
      "armor : 풀플레이트\n",
      "skill : 베기\n",
      "skill : 세게 베기\n",
      "skill : 아주 세게 베기\n"
     ]
    }
   ],
   "source": [
    "# Chap4-2 연습문제 4\n",
    "character = {\n",
    "    \"name\" : \"기사\",\n",
    "    \"leve\" : 12,\n",
    "    \"items\" : {\n",
    "        \"sword\" : \"불꽃의 검\",\n",
    "        \"armor\" : \"풀플레이트\"\n",
    "    },\n",
    "    \"skill\" :[\"베기\", \"세게 베기\", \"아주 세게 베기\"]\n",
    "}\n",
    "\n",
    "for key in character:\n",
    "    value = character.get(key)\n",
    "    if type(value) is str or type(value) is int:\n",
    "        print (f\"{key} : {value}\")\n",
    "    elif type(value) is list:\n",
    "        for item in value:\n",
    "            print(f'{key} : {item}')\n",
    "    elif type(value) is dict:\n",
    "        for val_key in value:\n",
    "            print(f'{val_key} : {value.get(val_key)}')"
   ]
  }
 ],
 "metadata": {
  "kernelspec": {
   "display_name": "Python 3 (ipykernel)",
   "language": "python",
   "name": "python3"
  },
  "language_info": {
   "codemirror_mode": {
    "name": "ipython",
    "version": 3
   },
   "file_extension": ".py",
   "mimetype": "text/x-python",
   "name": "python",
   "nbconvert_exporter": "python",
   "pygments_lexer": "ipython3",
   "version": "3.9.13"
  }
 },
 "nbformat": 4,
 "nbformat_minor": 5
}
