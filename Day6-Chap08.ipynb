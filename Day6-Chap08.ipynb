{
 "cells": [
  {
   "cell_type": "markdown",
   "id": "4f61afab",
   "metadata": {},
   "source": [
    "# 클래스"
   ]
  },
  {
   "cell_type": "code",
   "execution_count": 3,
   "id": "1a8422fc",
   "metadata": {},
   "outputs": [
    {
     "name": "stdout",
     "output_type": "stream",
     "text": [
      "이름\t총점\t평균\n",
      "윤인성\t368\t92.00\n",
      "연하진\t384\t96.00\n",
      "구지연\t356\t89.00\n",
      "나선주\t378\t94.50\n",
      "윤아린\t389\t97.25\n",
      "윤명월\t336\t84.00\n"
     ]
    }
   ],
   "source": [
    "# 학생 리스트를 선언합니다.\n",
    "students = [\n",
    "    { \"name\": \"윤인성\", \"korean\": 87, \"math\": 98, \"english\": 88, \"science\": 95 },\n",
    "    { \"name\": \"연하진\", \"korean\": 92, \"math\": 98, \"english\": 96, \"science\": 98 },\n",
    "    { \"name\": \"구지연\", \"korean\": 76, \"math\": 96, \"english\": 94, \"science\": 90 },\n",
    "    { \"name\": \"나선주\", \"korean\": 98, \"math\": 92, \"english\": 96, \"science\": 92 },\n",
    "    { \"name\": \"윤아린\", \"korean\": 95, \"math\": 98, \"english\": 98, \"science\": 98 },\n",
    "    { \"name\": \"윤명월\", \"korean\": 64, \"math\": 88, \"english\": 92, \"science\": 92 }\n",
    "]\n",
    "\n",
    "# 학생을 한명씩 정보 출력\n",
    "print(\"이름\\t총점\\t평균\")\n",
    "for student in students:\n",
    "    score_sum = student[\"korean\"] + student[\"math\"] +student[\"english\"] +student[\"science\"]\n",
    "    print('{}\\t{}\\t{:3.2f}'.format(student[\"name\"], score_sum, score_sum/4))"
   ]
  },
  {
   "cell_type": "code",
   "execution_count": 5,
   "id": "8ac36058",
   "metadata": {},
   "outputs": [
    {
     "name": "stdout",
     "output_type": "stream",
     "text": [
      "이름\t총점\t평균\n",
      "윤인성\t368\t92.00\n",
      "연하진\t384\t96.00\n",
      "구지연\t356\t89.00\n",
      "나선주\t378\t94.50\n",
      "윤아린\t389\t97.25\n",
      "윤명월\t336\t84.00\n"
     ]
    }
   ],
   "source": [
    "# 객체를 만드는 함수 정의\n",
    "def create_student(name,korean, math,english,science ):\n",
    "    return { 'name':name, 'korean':korean, 'math':math,\n",
    "           'english':english,'science':science}\n",
    "# 총점을 구하는 함수 정의\n",
    "def get_total(student):\n",
    "    return student['korean'] + student['math'] + student['english'] + student['science']\n",
    "# 각 학생의 정보를 출력하는 함수 정의\n",
    "def print_student(student):\n",
    "    print('{}\\t{}\\t{:3.2f}'.format(student['name'], get_total(student), get_avg(student)))\n",
    "    \n",
    "def get_avg(student):\n",
    "    return get_total(student) / 4\n",
    "\n",
    "#   학생 리스트를 선언\n",
    "students = [\n",
    "    create_student(\"윤인성\", 87, 98, 88, 95),\n",
    "    create_student(\"연하진\", 92, 98, 96, 98),\n",
    "    create_student(\"구지연\", 76, 96, 94, 90),\n",
    "    create_student(\"나선주\", 98, 92, 96, 92),\n",
    "    create_student(\"윤아린\", 95, 98, 98, 98),\n",
    "    create_student(\"윤명월\", 64, 88, 92, 92)\n",
    "]\n",
    "\n",
    "# 학생 정보 출력\n",
    "# 학생을 한 명씩 정보 출력\n",
    "print(\"이름\\t총점\\t평균\")\n",
    "for student in students:\n",
    "    print_student(student)"
   ]
  },
  {
   "cell_type": "code",
   "execution_count": 16,
   "id": "366907cf",
   "metadata": {},
   "outputs": [],
   "source": [
    "# Student class 생성\n",
    "class Student:\n",
    "    def __init__(self, name, korean, math, english, science):\n",
    "        self.name = name\n",
    "        self.korean = korean\n",
    "        self.math = math\n",
    "        self.english = english\n",
    "        self.science = science\n",
    "        \n",
    "    # 총점을 구하는 함수 정의\n",
    "    def get_sum(self):\n",
    "        return self.korean + self.math + self.english + self.science\n",
    "    \n",
    "    # 각 학생의 정보를 출력하는 함수 정의\n",
    "    def to_string(self):\n",
    "        return '{}\\t{}\\t{:3.2f}'.format(self.name, self.get_sum(), self.get_avg())\n",
    "    \n",
    "    # 각 학생의 평균점수를 계산하는 함수 정의\n",
    "    def get_avg(self):\n",
    "        return self.get_sum() / 4\n",
    "        \n",
    "student = Student(\"윤인성\", 87, 98, 88, 95)\n",
    "# print(student.name, student.korean, student.math, student.english, student.science)\n",
    "# print(type(student))"
   ]
  },
  {
   "cell_type": "code",
   "execution_count": 17,
   "id": "46a59f16",
   "metadata": {},
   "outputs": [
    {
     "name": "stdout",
     "output_type": "stream",
     "text": [
      "윤인성\t368\t92.00\n",
      "연하진\t384\t96.00\n",
      "구지연\t356\t89.00\n",
      "나선주\t378\t94.50\n",
      "윤아린\t389\t97.25\n",
      "윤명월\t336\t84.00\n"
     ]
    }
   ],
   "source": [
    "students = [\n",
    "    Student(\"윤인성\", 87, 98, 88, 95),\n",
    "    Student(\"연하진\", 92, 98, 96, 98),\n",
    "    Student(\"구지연\", 76, 96, 94, 90),\n",
    "    Student(\"나선주\", 98, 92, 96, 92),\n",
    "    Student(\"윤아린\", 95, 98, 98, 98),\n",
    "    Student(\"윤명월\", 64, 88, 92, 92)\n",
    "]\n",
    "\n",
    "for student in students:\n",
    "    print(student.to_string())"
   ]
  },
  {
   "cell_type": "code",
   "execution_count": 20,
   "id": "dc79f03e",
   "metadata": {},
   "outputs": [],
   "source": [
    "# 생성자 소멸자\n",
    "class Test:\n",
    "    def __init__(self, name):\n",
    "        self.name = name\n",
    "        print(\"---- 생성 -----\")\n",
    "    def __del__(self):\n",
    "        print(\"---- 파괴 -----\")"
   ]
  },
  {
   "cell_type": "code",
   "execution_count": 21,
   "id": "74cc3d60",
   "metadata": {},
   "outputs": [
    {
     "name": "stdout",
     "output_type": "stream",
     "text": [
      "---- 생성 -----\n"
     ]
    }
   ],
   "source": [
    "test = Test('ass')"
   ]
  },
  {
   "cell_type": "code",
   "execution_count": 22,
   "id": "1fdda095",
   "metadata": {},
   "outputs": [
    {
     "name": "stdout",
     "output_type": "stream",
     "text": [
      "---- 파괴 -----\n"
     ]
    }
   ],
   "source": [
    "del test"
   ]
  },
  {
   "cell_type": "markdown",
   "id": "fc99a322",
   "metadata": {},
   "source": [
    "## Chap08-2 클래스의 추가적인 구문"
   ]
  },
  {
   "cell_type": "code",
   "execution_count": 24,
   "id": "55ba74b2",
   "metadata": {},
   "outputs": [
    {
     "name": "stdout",
     "output_type": "stream",
     "text": [
      "isinstance(student, Student) :  True\n",
      "isinstance(student, Test) :  False\n"
     ]
    }
   ],
   "source": [
    " # isinstance(instance명, class명) -> True or False\n",
    "    \n",
    "class Student:\n",
    "    def __init__(self):\n",
    "        pass\n",
    "\n",
    "student = Student()\n",
    "print(\"isinstance(student, Student) : \", isinstance(student, Student))\n",
    "print(\"isinstance(student, Test) : \", isinstance(student, Test))"
   ]
  },
  {
   "cell_type": "code",
   "execution_count": 25,
   "id": "1771447d",
   "metadata": {},
   "outputs": [
    {
     "name": "stdout",
     "output_type": "stream",
     "text": [
      "study ....\n",
      "teaching ....\n",
      "teaching ....\n",
      "study ....\n"
     ]
    }
   ],
   "source": [
    "# Studen, Teacher 두개의 클래스를 생성\n",
    "class Student:\n",
    "    def study(self):\n",
    "        print(\"study ....\")\n",
    "        \n",
    "class Teacher:\n",
    "    def teach(self):\n",
    "        print(\"teaching ....\")\n",
    "\n",
    "classroom = [Student(), Teacher(), Teacher(), Student()]\n",
    "for person in classroom:\n",
    "    if isinstance(person, Student):\n",
    "        person.study()\n",
    "    elif isinstance(person, Teacher):\n",
    "        person.teach()"
   ]
  },
  {
   "cell_type": "code",
   "execution_count": 29,
   "id": "e7908c1f",
   "metadata": {},
   "outputs": [
    {
     "name": "stdout",
     "output_type": "stream",
     "text": [
      "윤인성\t368\t92.00\n",
      "연하진\t384\t96.00\n",
      "구지연\t356\t89.00\n",
      "나선주\t378\t94.50\n",
      "윤아린\t389\t97.25\n",
      "윤명월\t336\t84.00\n"
     ]
    }
   ],
   "source": [
    "# 특수한 메서드 __str__()\n",
    "\n",
    "class Student:\n",
    "    def __init__(self, name, korean, math, english, science):\n",
    "        self.name = name\n",
    "        self.korean = korean\n",
    "        self.math = math\n",
    "        self.english = english\n",
    "        self.science = science\n",
    "        \n",
    "    # 총점을 구하는 함수 정의\n",
    "    def get_sum(self):\n",
    "        return self.korean + self.math + self.english + self.science\n",
    "    \n",
    "    # 각 학생의 정보를 출력하는 함수 정의\n",
    "    def __str__(self):\n",
    "        return '{}\\t{}\\t{:3.2f}'.format(self.name, self.get_sum(), self.get_avg())\n",
    "    \n",
    "    # 각 학생의 평균점수를 계산하는 함수 정의\n",
    "    def get_avg(self):\n",
    "        return self.get_sum() / 4\n",
    "    \n",
    "    def __eq__(self, value):\n",
    "        return self.get_sum() == value.get_sum()\n",
    "    \n",
    "    def __ne__(self, value):\n",
    "        return self.get_sum() != value.get_sum()\n",
    "    \n",
    "    def __gt__(self, value):\n",
    "        return self.get_sum() > value.get_sum()\n",
    "    \n",
    "    def __ge__(self, value):\n",
    "        return self.get_sum() >= value.get_sum()\n",
    "    \n",
    "    def __lt__(self, value):\n",
    "        return self.get_sum() < value.get_sum()\n",
    "    \n",
    "    def __le__(self, value):\n",
    "        return self.get_sum() <= value.get_sum()\n",
    "    \n",
    "students = [\n",
    "    Student(\"윤인성\", 87, 98, 88, 95),\n",
    "    Student(\"연하진\", 92, 98, 96, 98),\n",
    "    Student(\"구지연\", 76, 96, 94, 90),\n",
    "    Student(\"나선주\", 98, 92, 96, 92),\n",
    "    Student(\"윤아린\", 95, 98, 98, 98),\n",
    "    Student(\"윤명월\", 64, 88, 92, 92)\n",
    "]\n",
    "\n",
    "\n",
    "for student in students:\n",
    "#    print(student.to_string())\n",
    "    print(str(student))"
   ]
  },
  {
   "cell_type": "code",
   "execution_count": 30,
   "id": "6804aa6c",
   "metadata": {},
   "outputs": [
    {
     "name": "stdout",
     "output_type": "stream",
     "text": [
      "a == b False\n",
      "a != b True\n",
      "a > b False\n",
      "a >= b False\n"
     ]
    }
   ],
   "source": [
    "a = students[0]\n",
    "b = students[1]\n",
    "#두학생 점수비교\n",
    "print(\"a == b\", a == b)\n",
    "print(\"a != b\", a != b)\n",
    "print(\"a > b\", a > b)\n",
    "print(\"a >= b\", a >= b)"
   ]
  },
  {
   "cell_type": "code",
   "execution_count": 31,
   "id": "017795b5",
   "metadata": {},
   "outputs": [],
   "source": [
    "## 클래스변수\n",
    "class Student:\n",
    "    count = 0\n",
    "    def __init__(self, name, korean, math, english, science):\n",
    "        self.name = name\n",
    "        self.korean = korean\n",
    "        self.math = math\n",
    "        self.english = english\n",
    "        self.science = science\n",
    "        \n",
    "        Student.count += 1\n",
    "        print('{} 번째학생 생성'.format(Student.count))"
   ]
  },
  {
   "cell_type": "code",
   "execution_count": 35,
   "id": "3104cade",
   "metadata": {},
   "outputs": [
    {
     "name": "stdout",
     "output_type": "stream",
     "text": [
      "1 번째학생 생성\n",
      "2 번째학생 생성\n",
      "3 번째학생 생성\n",
      "4 번째학생 생성\n",
      "5 번째학생 생성\n",
      "6 번째학생 생성\n",
      "\n",
      "현재새성된 학생 수는 :  6\n"
     ]
    }
   ],
   "source": [
    "Student.count = 0\n",
    "students = [\n",
    "    Student(\"윤인성\", 87, 98, 88, 95),\n",
    "    Student(\"연하진\", 92, 98, 96, 98),\n",
    "    Student(\"구지연\", 76, 96, 94, 90),\n",
    "    Student(\"나선주\", 98, 92, 96, 92),\n",
    "    Student(\"윤아린\", 95, 98, 98, 98),\n",
    "    Student(\"윤명월\", 64, 88, 92, 92)\n",
    "]\n",
    "\n",
    "\n",
    "print()\n",
    "print(\"현재새성된 학생 수는 : \", Student.count)"
   ]
  },
  {
   "cell_type": "code",
   "execution_count": 39,
   "id": "38430433",
   "metadata": {},
   "outputs": [
    {
     "name": "stdout",
     "output_type": "stream",
     "text": [
      "윤인성\n",
      "연하진\n",
      "구지연\n",
      "나선주\n",
      "윤아린\n",
      "윤명월\n"
     ]
    }
   ],
   "source": [
    "for i in range(Student.count):\n",
    "    print(students[i].name)"
   ]
  },
  {
   "cell_type": "code",
   "execution_count": 41,
   "id": "af3b03ed",
   "metadata": {},
   "outputs": [
    {
     "name": "stdout",
     "output_type": "stream",
     "text": [
      "Student ---- \n",
      "isinstance(student, Student) :  True\n",
      "isinstance(student, Human) :  True\n",
      "False\n"
     ]
    }
   ],
   "source": [
    "# 클래스의 상속\n",
    "class Human:\n",
    "    def __init__(self):\n",
    "        print(\"Human ---- \")\n",
    "        \n",
    "class Student(Human):\n",
    "    def __init__(self):\n",
    "        print(\"Student ---- \")\n",
    "\n",
    "# 학생 인스턴스 선언\n",
    "student = Student()\n",
    "print(\"isinstance(student, Student) : \", isinstance(student, Student))\n",
    "print(\"isinstance(student, Human) : \", isinstance(student, Human))\n",
    "\n",
    "print(type(student) == Human)"
   ]
  },
  {
   "cell_type": "code",
   "execution_count": 1,
   "id": "d76fa514",
   "metadata": {},
   "outputs": [],
   "source": [
    "class Student:\n",
    "    count = 0\n",
    "    students = []\n",
    "    def __init__(self, name, korean, math, english, science):\n",
    "        self.name = name\n",
    "        self.korean = korean\n",
    "        self.math = math\n",
    "        self.english = english\n",
    "        self.science = science\n",
    "        Student.count += 1\n",
    "        Student.students.append(self)\n",
    "        \n",
    "    #클래스 함수 선언 (전체자료 출력)\n",
    "    @classmethod\n",
    "    def print(cls):\n",
    "        print(\"학생 전체 자료 출력\")\n",
    "        print(\"이름\\t총점\\t평균\")\n",
    "        print(\"============================================\")\n",
    "        for student in cls.students:\n",
    "            print(str(student))\n",
    "        print(\"============================================\")\n",
    "        \n",
    "    # 총점을 구하는 함수 정의\n",
    "    def get_sum(self):\n",
    "        return self.korean + self.math + self.english + self.science\n",
    "    \n",
    "    def get_avg(self):\n",
    "        return self.get_sum() / 4\n",
    "    \n",
    "    # 각 학생의 정보를 출력하는 함수 정의\n",
    "    def __str__(self):\n",
    "        return '{}\\t{}\\t{:3.2f}'.format(self.name, self.get_sum(), self.get_avg())"
   ]
  },
  {
   "cell_type": "code",
   "execution_count": 3,
   "id": "179441da",
   "metadata": {},
   "outputs": [
    {
     "name": "stdout",
     "output_type": "stream",
     "text": [
      "학생 전체 자료 출력\n",
      "이름\t총점\t평균\n",
      "============================================\n",
      "윤인성\t368\t92.00\n",
      "연하진\t384\t96.00\n",
      "구지연\t356\t89.00\n",
      "나선주\t378\t94.50\n",
      "윤아린\t389\t97.25\n",
      "윤명월\t336\t84.00\n",
      "윤인성\t368\t92.00\n",
      "연하진\t384\t96.00\n",
      "구지연\t356\t89.00\n",
      "나선주\t378\t94.50\n",
      "윤아린\t389\t97.25\n",
      "윤명월\t336\t84.00\n",
      "============================================\n"
     ]
    }
   ],
   "source": [
    "\n",
    "Student(\"윤인성\", 87, 98, 88, 95)\n",
    "Student(\"연하진\", 92, 98, 96, 98)\n",
    "Student(\"구지연\", 76, 96, 94, 90)\n",
    "Student(\"나선주\", 98, 92, 96, 92)\n",
    "Student(\"윤아린\", 95, 98, 98, 98)\n",
    "Student(\"윤명월\", 64, 88, 92, 92)\n",
    "\n",
    "Student.print()"
   ]
  },
  {
   "cell_type": "code",
   "execution_count": 4,
   "id": "423f3eef",
   "metadata": {},
   "outputs": [
    {
     "name": "stdout",
     "output_type": "stream",
     "text": [
      "윤인성\t368\t92.00\n",
      "연하진\t384\t96.00\n",
      "구지연\t356\t89.00\n",
      "나선주\t378\t94.50\n",
      "윤아린\t389\t97.25\n",
      "윤명월\t336\t84.00\n",
      "윤인성\t368\t92.00\n",
      "연하진\t384\t96.00\n",
      "구지연\t356\t89.00\n",
      "나선주\t378\t94.50\n",
      "윤아린\t389\t97.25\n",
      "윤명월\t336\t84.00\n"
     ]
    }
   ],
   "source": [
    "for student in Student.students:\n",
    "    print(str(student))"
   ]
  },
  {
   "cell_type": "code",
   "execution_count": 5,
   "id": "b1977e99",
   "metadata": {},
   "outputs": [],
   "source": [
    "# 가비지 콜렉터\n",
    "class Test:\n",
    "    def __init__(self, name):\n",
    "        self.name = name\n",
    "        print(\"{} 생성\".format(self.name))\n",
    "        \n",
    "    def __del__(self):\n",
    "        print(\"{} 파괴\".format(self.name))\n",
    "        "
   ]
  },
  {
   "cell_type": "code",
   "execution_count": 9,
   "id": "ca76df61",
   "metadata": {},
   "outputs": [
    {
     "name": "stdout",
     "output_type": "stream",
     "text": [
      "A 생성\n",
      "A 파괴\n",
      "B 생성\n",
      "B 파괴\n",
      "C 생성\n",
      "C 파괴\n",
      "A 생성\n",
      "A 파괴\n",
      "B 생성\n",
      "B 파괴\n",
      "C 생성\n",
      "C 파괴\n"
     ]
    }
   ],
   "source": [
    "Test(\"A\")\n",
    "Test(\"B\")\n",
    "Test(\"C\")\n",
    "a = Test(\"A\")\n",
    "b = Test(\"B\")\n",
    "c = Test(\"C\")"
   ]
  },
  {
   "cell_type": "code",
   "execution_count": 11,
   "id": "8b8b4d8c",
   "metadata": {},
   "outputs": [
    {
     "name": "stdout",
     "output_type": "stream",
     "text": [
      "A 생성\n",
      "A 파괴\n",
      "B 생성\n",
      "B 파괴\n",
      "C 생성\n",
      "C 파괴\n"
     ]
    }
   ],
   "source": [
    "a = Test(\"A\")\n",
    "b = Test(\"B\")\n",
    "c = Test(\"C\")"
   ]
  },
  {
   "cell_type": "code",
   "execution_count": 13,
   "id": "9eb2f3eb",
   "metadata": {},
   "outputs": [
    {
     "name": "stdout",
     "output_type": "stream",
     "text": [
      "원의 둘래 :  62.83185307179586\n",
      "원의 넓이 :  314.1592653589793\n"
     ]
    }
   ],
   "source": [
    "import math\n",
    "\n",
    "class Circle:\n",
    "    def __init__(self, radius):\n",
    "        self.radius = radius\n",
    "        \n",
    "    def get_circumference(self):\n",
    "        return 2 * math.pi * self.radius\n",
    "    \n",
    "    def get_area(self):\n",
    "        return math.pi * (self.radius ** 2)\n",
    "    \n",
    "circle = Circle(20)\n",
    "circle.radius = 10 # 외부에서 바꿀 수 있음\n",
    "\n",
    "print(\"원의 둘래 : \", circle.get_circumference())\n",
    "print(\"원의 넓이 : \", circle.get_area())"
   ]
  },
  {
   "cell_type": "code",
   "execution_count": 23,
   "id": "ce5940d4",
   "metadata": {},
   "outputs": [
    {
     "name": "stdout",
     "output_type": "stream",
     "text": [
      "원의 둘래 :  125.66370614359172\n",
      "원의 넓이 :  1256.6370614359173\n",
      "40\n"
     ]
    }
   ],
   "source": [
    "# 클래스 선언 -> private 변수로\n",
    "class Circle:\n",
    "    def __init__(self, radius):\n",
    "        self.__radius = radius\n",
    "        \n",
    "    def get_circumference(self):\n",
    "        return 2 * math.pi * self.__radius\n",
    "    \n",
    "    def get_area(self):\n",
    "        return math.pi * (self.__radius ** 2)\n",
    "    \n",
    "    def set_radius(self, radius):\n",
    "        self.__radius = radius\n",
    "        \n",
    "    def get_radius(self):\n",
    "        return self.__radius\n",
    "    \n",
    "circle = Circle(20)\n",
    "print(\"원의 둘래 : \", circle.get_circumference())\n",
    "print(\"원의 넓이 : \", circle.get_area())\n",
    "\n",
    "#print(circle.__radius) # 접근 불가\n",
    "circle.set_radius(40)\n",
    "print(circle.get_radius())\n"
   ]
  },
  {
   "cell_type": "code",
   "execution_count": null,
   "id": "cc3844f9",
   "metadata": {},
   "outputs": [],
   "source": [
    "# 클래스 선언 -> private 변수로 : 데코레이터를 이용 게터 세터 작성\n",
    "class Circle:\n",
    "    def __init__(self, radius):\n",
    "        self.__radius = radius\n",
    "        \n",
    "    def get_circumference(self):\n",
    "        return 2 * math.pi * self.__radius\n",
    "    \n",
    "    def get_area(self):\n",
    "        return math.pi * (self.__radius ** 2)\n",
    "    \n",
    "    @radius.setter\n",
    "    def radius(self, value): # 세터\n",
    "        self.__radius = value\n",
    "        \n",
    "    @property    \n",
    "    def radius(self): # 게터\n",
    "        return self.__radius"
   ]
  },
  {
   "cell_type": "code",
   "execution_count": 26,
   "id": "90df0561",
   "metadata": {},
   "outputs": [
    {
     "name": "stdout",
     "output_type": "stream",
     "text": [
      "원의 둘래 :  125.66370614359172\n",
      "원의 넓이 :  1256.6370614359173\n",
      "10\n"
     ]
    }
   ],
   "source": [
    "circle = Circle(20)\n",
    "print(\"원의 둘래 : \", circle.get_circumference())\n",
    "print(\"원의 넓이 : \", circle.get_area())\n",
    "\n",
    "#print(circle.__radius) # 접근 불가\n",
    "circle.radius = 10\n",
    "print(circle.radius)"
   ]
  },
  {
   "cell_type": "code",
   "execution_count": 30,
   "id": "7f859174",
   "metadata": {},
   "outputs": [],
   "source": [
    "# 예금 관리 프로그램\n",
    "class Account:\n",
    "    def __init__(self, name, money):\n",
    "        self.name = name\n",
    "        self.__money = money\n",
    "    \n",
    "    def in_money(self, money):\n",
    "        self.__money += money\n",
    "        \n",
    "    def out_money(self, money):\n",
    "        if money < self.__money:\n",
    "            self.__money -= money\n",
    "            \n",
    "    def get_money(self):\n",
    "        return self.__money\n",
    "    \n",
    "a = Account('홍길동', 1000)\n",
    "a.get_money()\n",
    "a.in_money(100)\n",
    "a.out_money(100)"
   ]
  },
  {
   "cell_type": "code",
   "execution_count": 32,
   "id": "5d0cc12f",
   "metadata": {},
   "outputs": [
    {
     "name": "stdout",
     "output_type": "stream",
     "text": [
      "Parent 클래스 ini --\n",
      "Child 클래스 ini --\n",
      "Child.value --> child\n",
      "Child 클래스 test 메소드 --\n",
      "Parent 클래스 test_1 메소드 --\n"
     ]
    }
   ],
   "source": [
    "# 상속\n",
    "# 부모 클래스 생성\n",
    "class Parent:\n",
    "    def __init__(self):\n",
    "        self.value = '테스트'\n",
    "        print(\"Parent 클래스 ini --\")\n",
    "    \n",
    "    def test(self):\n",
    "        print(\"Parent 클래스 test 메소드 --\")\n",
    "        \n",
    "    def test_1(self):\n",
    "        print(\"Parent 클래스 test_1 메소드 --\")\n",
    "        \n",
    "class Child(Parent):\n",
    "    def  __init__(self):\n",
    "        Parent.__init__(self)\n",
    "        self.value = 'child'\n",
    "        print(\"Child 클래스 ini --\")\n",
    "        \n",
    "    def test(self):\n",
    "        print(\"Child 클래스 test 메소드 --\")\n",
    "        \n",
    "        \n",
    "child = Child()\n",
    "print(\"Child.value -->\", child.value)\n",
    "child.test()\n",
    "child.test_1()"
   ]
  },
  {
   "cell_type": "code",
   "execution_count": 41,
   "id": "63379c0e",
   "metadata": {},
   "outputs": [],
   "source": [
    "# 사용자 정의 예외 클래스 만들기\n",
    "class CustomException(Exception):\n",
    "    def __init__(self, message, value):\n",
    "        super().__init__(self)\n",
    "        self.message = message\n",
    "        self.value = value\n",
    "        \n",
    "    def __str__(self):\n",
    "        return \"오류발생\"\n",
    "    \n",
    "    def print(self):\n",
    "        print(\"## 사용자 정의 예외처리 생성 ##\")\n",
    "        print(\"메세지 : \", self.message)\n",
    "        print(\"오류값 : \", self.value)"
   ]
  },
  {
   "cell_type": "code",
   "execution_count": 39,
   "id": "5e1dcf24",
   "metadata": {},
   "outputs": [
    {
     "name": "stdout",
     "output_type": "stream",
     "text": [
      "## 사용자 정으 예외처리 생성 ##\n",
      "메세지 :  사용자 에러\n",
      "오류값 :  22\n"
     ]
    }
   ],
   "source": [
    "try:\n",
    "    raise CustomException('사용자 에러', 22)\n",
    "except CustomException as e:\n",
    "    e.print()"
   ]
  },
  {
   "cell_type": "code",
   "execution_count": null,
   "id": "fca22aac",
   "metadata": {},
   "outputs": [],
   "source": [
    "# 반복횟수 입력, 1~45까지 6개"
   ]
  }
 ],
 "metadata": {
  "kernelspec": {
   "display_name": "Python 3 (ipykernel)",
   "language": "python",
   "name": "python3"
  },
  "language_info": {
   "codemirror_mode": {
    "name": "ipython",
    "version": 3
   },
   "file_extension": ".py",
   "mimetype": "text/x-python",
   "name": "python",
   "nbconvert_exporter": "python",
   "pygments_lexer": "ipython3",
   "version": "3.9.13"
  }
 },
 "nbformat": 4,
 "nbformat_minor": 5
}
