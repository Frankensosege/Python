{
 "cells": [
  {
   "cell_type": "markdown",
   "id": "c4cb3b84",
   "metadata": {},
   "source": [
    "# 파파고 API를 활용하여 번역기 생성"
   ]
  },
  {
   "cell_type": "code",
   "execution_count": 6,
   "id": "67cfe029",
   "metadata": {},
   "outputs": [],
   "source": [
    "import requests"
   ]
  },
  {
   "cell_type": "code",
   "execution_count": 2,
   "id": "af4bc218",
   "metadata": {},
   "outputs": [],
   "source": [
    "text='''Yesterday\n",
    "All my troubles seemed so far away\n",
    "Now it looks as though they're here to stay\n",
    "Oh, I believe in yesterday\n",
    "Suddenly\n",
    "I'm not half the man I used to be\n",
    "There's a shadow hanging over me\n",
    "Oh, yesterday came suddenly\n",
    "Why she had to go, I don't know\n",
    "She wouldn't say\n",
    "I said something wrong\n",
    "Now I long for yesterday\n",
    "Yesterday\n",
    "Love was such an easy game to play\n",
    "Now I need a place to hide away\n",
    "Oh, I believe in yesterday\n",
    "Why she'''"
   ]
  },
  {
   "cell_type": "code",
   "execution_count": 7,
   "id": "b54b786f",
   "metadata": {},
   "outputs": [
    {
     "name": "stdout",
     "output_type": "stream",
     "text": [
      "<Response [200]>\n"
     ]
    }
   ],
   "source": [
    "url = \"https://openapi.naver.com/v1/papago/n2mt\"\n",
    "headers = {\"X-Naver-Client-Id\": \"iprQM0QCrfDP5EdwLKPN\", \n",
    "          \"X-Naver-Client-Secret\": \"xy8NBcSUDY\"} # API Client ID / Password\n",
    "params = {\"source\":\"en\", \"target\":\"ko\", \"text\": text}\n",
    "\n",
    "resp = requests.post(url = url, headers = headers, data = params)\n",
    "print(resp)"
   ]
  },
  {
   "cell_type": "code",
   "execution_count": 14,
   "id": "89bfe77f",
   "metadata": {},
   "outputs": [
    {
     "name": "stdout",
     "output_type": "stream",
     "text": [
      "<class 'str'>\n",
      "{\"message\":{\"result\":{\"srcLangType\":\"en\",\"tarLangType\":\"ko\",\"translatedText\":\"어제,\\n내 모든 시름들이 멀리 사라져버린듯 했다\\n이제 그들은 여기 머물기 위해 온 것처럼 보인다\\n오, 나는 어제를 다시 그리게 돼.\\n갑자기\\n예전의 나의 반도 안 되는구나.\\n그림자가 내게 드리워져 있다\\n오, 어제가 갑자기 왔구나\\n왜 그녀가 가야 했는지 모르겠어요\\n그녀는 말하지 않았다\\n내가 뭔가 잘못 말했다\\n이제 나는 어제가 그립다\\n어제,\\n사랑은 매우 쉬운 게임이었다\\n이젠 숨을 곳이 필요해\\n오, 나는 어제를 다시 그리게 돼.\\n그녀는 왜\",\"engineType\":\"UNDEF_MULTI_SENTENCE\",\"pivot\":null,\"dict\":null,\"tarDict\":null},\"@type\":\"response\",\"@service\":\"naverservice.nmt.proxy\",\"@version\":\"1.0.0\"}}\n",
      "어제,\n",
      "내 모든 시름들이 멀리 사라져버린듯 했다\n",
      "이제 그들은 여기 머물기 위해 온 것처럼 보인다\n",
      "오, 나는 어제를 다시 그리게 돼.\n",
      "갑자기\n",
      "예전의 나의 반도 안 되는구나.\n",
      "그림자가 내게 드리워져 있다\n",
      "오, 어제가 갑자기 왔구나\n",
      "왜 그녀가 가야 했는지 모르겠어요\n",
      "그녀는 말하지 않았다\n",
      "내가 뭔가 잘못 말했다\n",
      "이제 나는 어제가 그립다\n",
      "어제,\n",
      "사랑은 매우 쉬운 게임이었다\n",
      "이젠 숨을 곳이 필요해\n",
      "오, 나는 어제를 다시 그리게 돼.\n",
      "그녀는 왜\n"
     ]
    }
   ],
   "source": [
    "print(type(resp.text))\n",
    "print(resp.text) # json type을 문자열로 묶어 반환 됨\n",
    "result = resp.json()\n",
    "result # json type -> 딕셔너리로 확인 가능\n",
    "print(result['message']['result']['translatedText'])"
   ]
  },
  {
   "cell_type": "code",
   "execution_count": 41,
   "id": "89791ba0",
   "metadata": {},
   "outputs": [],
   "source": [
    "# 한국어를 입력 받아 영으로 번역\n",
    "# 번역해서 결과를 돌려주는 함수로 정의\n",
    "def translate_papago_txt(src, target, data):\n",
    "    url = \"https://openapi.naver.com/v1/papago/n2mt\"\n",
    "    headers = {\"X-Naver-Client-Id\": \"iprQM0QCrfDP5EdwLKPN\", \n",
    "              \"X-Naver-Client-Secret\": \"xy8NBcSUDY\"} # API Client ID / Password\n",
    "    params = {\"source\":src, \"target\":target, \"text\": data}\n",
    "    \n",
    "    resp = requests.post(url = url, headers = headers, data = params)\n",
    "    \n",
    "    if resp.ok:\n",
    "        return resp.json()['message']['result']['translatedText']\n",
    "    else:\n",
    "        print('code Error')"
   ]
  },
  {
   "cell_type": "code",
   "execution_count": 42,
   "id": "4e07aa87",
   "metadata": {},
   "outputs": [
    {
     "name": "stdout",
     "output_type": "stream",
     "text": [
      "Korean love.\n"
     ]
    }
   ],
   "source": [
    "print(translate_papago_txt('ko', 'en', '한글 사랑'))"
   ]
  }
 ],
 "metadata": {
  "kernelspec": {
   "display_name": "Python 3 (ipykernel)",
   "language": "python",
   "name": "python3"
  },
  "language_info": {
   "codemirror_mode": {
    "name": "ipython",
    "version": 3
   },
   "file_extension": ".py",
   "mimetype": "text/x-python",
   "name": "python",
   "nbconvert_exporter": "python",
   "pygments_lexer": "ipython3",
   "version": "3.9.13"
  }
 },
 "nbformat": 4,
 "nbformat_minor": 5
}
