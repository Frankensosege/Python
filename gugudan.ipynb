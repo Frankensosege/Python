{
 "cells": [
  {
   "cell_type": "code",
   "execution_count": 1,
   "id": "f3ae61f5",
   "metadata": {},
   "outputs": [
    {
     "name": "stdout",
     "output_type": "stream",
     "text": [
      "=====2단====\t=====3단====\t=====4단====\t=====5단====\t\n",
      "2 * 1 =   2\t3 * 1 =   3\t4 * 1 =   4\t5 * 1 =   5\t\n",
      "2 * 2 =   4\t3 * 2 =   6\t4 * 2 =   8\t5 * 2 =  10\t\n",
      "2 * 3 =   6\t3 * 3 =   9\t4 * 3 =  12\t5 * 3 =  15\t\n",
      "2 * 4 =   8\t3 * 4 =  12\t4 * 4 =  16\t5 * 4 =  20\t\n",
      "2 * 5 =  10\t3 * 5 =  15\t4 * 5 =  20\t5 * 5 =  25\t\n",
      "2 * 6 =  12\t3 * 6 =  18\t4 * 6 =  24\t5 * 6 =  30\t\n",
      "2 * 7 =  14\t3 * 7 =  21\t4 * 7 =  28\t5 * 7 =  35\t\n",
      "2 * 8 =  16\t3 * 8 =  24\t4 * 8 =  32\t5 * 8 =  40\t\n",
      "2 * 9 =  18\t3 * 9 =  27\t4 * 9 =  36\t5 * 9 =  45\t\n",
      "\n",
      "=====6단====\t=====7단====\t=====8단====\t=====9단====\t\n",
      "6 * 1 =   6\t7 * 1 =   7\t8 * 1 =   8\t9 * 1 =   9\t\n",
      "6 * 2 =  12\t7 * 2 =  14\t8 * 2 =  16\t9 * 2 =  18\t\n",
      "6 * 3 =  18\t7 * 3 =  21\t8 * 3 =  24\t9 * 3 =  27\t\n",
      "6 * 4 =  24\t7 * 4 =  28\t8 * 4 =  32\t9 * 4 =  36\t\n",
      "6 * 5 =  30\t7 * 5 =  35\t8 * 5 =  40\t9 * 5 =  45\t\n",
      "6 * 6 =  36\t7 * 6 =  42\t8 * 6 =  48\t9 * 6 =  54\t\n",
      "6 * 7 =  42\t7 * 7 =  49\t8 * 7 =  56\t9 * 7 =  63\t\n",
      "6 * 8 =  48\t7 * 8 =  56\t8 * 8 =  64\t9 * 8 =  72\t\n",
      "6 * 9 =  54\t7 * 9 =  63\t8 * 9 =  72\t9 * 9 =  81\t\n",
      "\n"
     ]
    }
   ],
   "source": [
    "for dan in range(2, 10, 4):\n",
    "    for i in range(4):\n",
    "        print('====={}단===='.format(dan+i), end='\\t')\n",
    "    print()\n",
    "    for j in range(1, 10):\n",
    "        for i in range(4):\n",
    "            print(f'{dan+i} * {j} = {(dan+i) * j:3d}', end='\\t')\n",
    "        print()\n",
    "    print()"
   ]
  }
 ],
 "metadata": {
  "kernelspec": {
   "display_name": "Python 3 (ipykernel)",
   "language": "python",
   "name": "python3"
  },
  "language_info": {
   "codemirror_mode": {
    "name": "ipython",
    "version": 3
   },
   "file_extension": ".py",
   "mimetype": "text/x-python",
   "name": "python",
   "nbconvert_exporter": "python",
   "pygments_lexer": "ipython3",
   "version": "3.9.13"
  }
 },
 "nbformat": 4,
 "nbformat_minor": 5
}
