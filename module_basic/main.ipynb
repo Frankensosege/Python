{
 "cells": [
  {
   "cell_type": "code",
   "execution_count": 1,
   "id": "c153ee02",
   "metadata": {},
   "outputs": [
    {
     "name": "stdout",
     "output_type": "stream",
     "text": [
      "숫자 입력 > 10\n",
      " 원의 둘래 :  62.800000000000004\n",
      " 원의 넓이 :  314.0\n"
     ]
    }
   ],
   "source": [
    "import test_module as test\n",
    "\n",
    "radius = test.number_input() # test_module의 number_input() 함수 호출\n",
    "print(\" 원의 둘래 : \", test.get_circumference(radius))\n",
    "print(\" 원의 넓이 : \", test.get_circle_area(radius))"
   ]
  },
  {
   "cell_type": "code",
   "execution_count": 7,
   "id": "1668407b",
   "metadata": {},
   "outputs": [
    {
     "name": "stdout",
     "output_type": "stream",
     "text": [
      "__main__\n"
     ]
    }
   ],
   "source": [
    "print(__name__)"
   ]
  }
 ],
 "metadata": {
  "kernelspec": {
   "display_name": "Python 3 (ipykernel)",
   "language": "python",
   "name": "python3"
  },
  "language_info": {
   "codemirror_mode": {
    "name": "ipython",
    "version": 3
   },
   "file_extension": ".py",
   "mimetype": "text/x-python",
   "name": "python",
   "nbconvert_exporter": "python",
   "pygments_lexer": "ipython3",
   "version": "3.9.13"
  }
 },
 "nbformat": 4,
 "nbformat_minor": 5
}
