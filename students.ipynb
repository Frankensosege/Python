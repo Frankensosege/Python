{
 "cells": [
  {
   "cell_type": "markdown",
   "id": "d7be0a44",
   "metadata": {},
   "source": [
    "# 메뉴\n",
    "1. 학생정보 등록(이른, 성적)\n",
    "2. 전체학생자료 출력\n",
    "3. 학생의 정보 검색\n",
    "4. 학생의 총점, 평균 출력\n",
    "\n",
    "출력\n",
    "###########################################\n",
    "    학사 관리\n",
    "###########################################\n",
    "1. 학생 정보 등록\n",
    "2. 전체 자료 조회\n",
    "3. 특정 학생 정보 검색\n",
    "4. 총점, 평균 출력\n",
    "5. 종료"
   ]
  },
  {
   "cell_type": "code",
   "execution_count": 7,
   "id": "279aa6b2",
   "metadata": {},
   "outputs": [],
   "source": [
    "# Student class 생성\n",
    "class Student:\n",
    "    def __init__(self, name, korean, english):\n",
    "        self.name = name\n",
    "        self.korean = korean\n",
    "        self.english = english\n",
    "        \n",
    "    # 총점을 구하는 함수 정의\n",
    "    def get_sum(self):\n",
    "        return self.korean + self.english\n",
    "    \n",
    "    # 각 학생의 정보를 출력하는 함수 정의\n",
    "    def to_string(self):\n",
    "        return '{}\\t{}\\t{:3.2f}'.format(self.name, self.get_sum(), self.get_avg())\n",
    "    \n",
    "    # 각 학생의 평균점수를 계산하는 함수 정의\n",
    "    def get_avg(self):\n",
    "        return self.get_sum() / 4"
   ]
  },
  {
   "cell_type": "code",
   "execution_count": 24,
   "id": "f133a38c",
   "metadata": {},
   "outputs": [
    {
     "ename": "SyntaxError",
     "evalue": "invalid syntax (3352792108.py, line 27)",
     "output_type": "error",
     "traceback": [
      "\u001b[1;36m  File \u001b[1;32m\"C:\\Users\\frank\\AppData\\Local\\Temp\\ipykernel_4852\\3352792108.py\"\u001b[1;36m, line \u001b[1;32m27\u001b[0m\n\u001b[1;33m    return self.sudents\u001b[0m\n\u001b[1;37m    ^\u001b[0m\n\u001b[1;31mSyntaxError\u001b[0m\u001b[1;31m:\u001b[0m invalid syntax\n"
     ]
    }
   ],
   "source": [
    "def print_menu():\n",
    "    prt = '''\\\n",
    "###########################################\n",
    "        학사 관리\n",
    "###########################################\n",
    "1. 학생 정보 등록 (이름 국어 영어)\n",
    "2. 전체 자료 조회\n",
    "3. 특정 학생 점수, 총점, 평균 출력\n",
    "5. 종료'''\n",
    "    print(prt)\n",
    "\n",
    "def insert():\n",
    "    stdent = []\n",
    "    while True:\n",
    "        in_data = input(\"학생과 성적을 입력(ex : 홍길동 90 형식 q는 종료) > \")\n",
    "        if in_data == 'q':\n",
    "            break\n",
    "        if len(in_data.split()) != 3:\n",
    "            print(\"\\'학생 성적\\' 으로 입력해 주세요\")\n",
    "            continue\n",
    "        name, korean, english = in_data.split()\n",
    "        if not (korean.isdecimal() or english.isdecimal()):\n",
    "            print(\"성적은 숫자로 입력해 주세요\")\n",
    "            continue\n",
    "            \n",
    "        self.sudents.append(Student(name, int(korean), int(english))\n",
    "    return self.sudents\n",
    "\n",
    "def list_student(sudents):\n",
    "    for idx, student in enumerate(sudents):\n",
    "        print(f'{idx} 이름 : {student.name}, 국어 : {student.korean}, 영어 : {student.english}')\n",
    "\n",
    "def search(sudents, s_name):\n",
    "    for student in sudents:\n",
    "        if student.name == s_name:\n",
    "            return student\n",
    "    return None"
   ]
  },
  {
   "cell_type": "code",
   "execution_count": 17,
   "id": "1c1285e8",
   "metadata": {},
   "outputs": [
    {
     "name": "stdout",
     "output_type": "stream",
     "text": [
      "###########################################\n",
      "        학사 관리\n",
      "###########################################\n",
      "1. 학생 정보 등록 (이름 국어 영어)\n",
      "2. 전체 자료 조회\n",
      "3. 특정 학생 점수, 총점, 평균 출력\n",
      "5. 종료\n",
      "메뉴 입력 > 1\n",
      "학생과 성적을 입력(ex : 홍길동 90 형식 q는 종료) > a 10 20\n",
      "학생과 성적을 입력(ex : 홍길동 90 형식 q는 종료) > b 20 30\n",
      "학생과 성적을 입력(ex : 홍길동 90 형식 q는 종료) > c 30 40\n",
      "학생과 성적을 입력(ex : 홍길동 90 형식 q는 종료) > q\n",
      "###########################################\n",
      "        학사 관리\n",
      "###########################################\n",
      "1. 학생 정보 등록 (이름 국어 영어)\n",
      "2. 전체 자료 조회\n",
      "3. 특정 학생 점수, 총점, 평균 출력\n",
      "5. 종료\n",
      "메뉴 입력 > 3\n",
      "검색할 이름 > b\n",
      "<class '__main__.Student'>\n",
      "이름\t국어\t영어\t총점\t평균\n"
     ]
    },
    {
     "ename": "TypeError",
     "evalue": "unsupported operand type(s) for /: 'str' and 'int'",
     "output_type": "error",
     "traceback": [
      "\u001b[1;31m---------------------------------------------------------------------------\u001b[0m",
      "\u001b[1;31mTypeError\u001b[0m                                 Traceback (most recent call last)",
      "\u001b[1;32m~\\AppData\\Local\\Temp\\ipykernel_4852\\1479867397.py\u001b[0m in \u001b[0;36m<module>\u001b[1;34m\u001b[0m\n\u001b[0;32m     19\u001b[0m \u001b[1;33m\u001b[0m\u001b[0m\n\u001b[0;32m     20\u001b[0m         \u001b[0mprint\u001b[0m\u001b[1;33m(\u001b[0m\u001b[1;34m\"이름\\t국어\\t영어\\t총점\\t평균\"\u001b[0m\u001b[1;33m)\u001b[0m\u001b[1;33m\u001b[0m\u001b[1;33m\u001b[0m\u001b[0m\n\u001b[1;32m---> 21\u001b[1;33m         \u001b[0mprint\u001b[0m\u001b[1;33m(\u001b[0m\u001b[1;34m\"{}\\t{}\\t{}\\t{}\\t\\{:3.2f}\"\u001b[0m\u001b[1;33m.\u001b[0m\u001b[0mformat\u001b[0m\u001b[1;33m(\u001b[0m\u001b[0mstudent\u001b[0m\u001b[1;33m.\u001b[0m\u001b[0mname\u001b[0m\u001b[1;33m,\u001b[0m \u001b[0mstudent\u001b[0m\u001b[1;33m.\u001b[0m\u001b[0mkorean\u001b[0m\u001b[1;33m,\u001b[0m \u001b[0mstudent\u001b[0m\u001b[1;33m.\u001b[0m\u001b[0menglish\u001b[0m\u001b[1;33m,\u001b[0m \u001b[0mstudent\u001b[0m\u001b[1;33m.\u001b[0m\u001b[0mget_sum\u001b[0m\u001b[1;33m(\u001b[0m\u001b[1;33m)\u001b[0m\u001b[1;33m,\u001b[0m \u001b[0mstudent\u001b[0m\u001b[1;33m.\u001b[0m\u001b[0mget_avg\u001b[0m\u001b[1;33m(\u001b[0m\u001b[1;33m)\u001b[0m\u001b[1;33m)\u001b[0m\u001b[1;33m)\u001b[0m\u001b[1;33m\u001b[0m\u001b[1;33m\u001b[0m\u001b[0m\n\u001b[0m\u001b[0;32m     22\u001b[0m     \u001b[1;32melse\u001b[0m\u001b[1;33m:\u001b[0m\u001b[1;33m\u001b[0m\u001b[1;33m\u001b[0m\u001b[0m\n\u001b[0;32m     23\u001b[0m         \u001b[0mprint_total\u001b[0m\u001b[1;33m(\u001b[0m\u001b[1;33m)\u001b[0m\u001b[1;33m\u001b[0m\u001b[1;33m\u001b[0m\u001b[0m\n",
      "\u001b[1;32m~\\AppData\\Local\\Temp\\ipykernel_4852\\1224390670.py\u001b[0m in \u001b[0;36mget_avg\u001b[1;34m(self)\u001b[0m\n\u001b[0;32m     16\u001b[0m     \u001b[1;31m# 각 학생의 평균점수를 계산하는 함수 정의\u001b[0m\u001b[1;33m\u001b[0m\u001b[1;33m\u001b[0m\u001b[0m\n\u001b[0;32m     17\u001b[0m     \u001b[1;32mdef\u001b[0m \u001b[0mget_avg\u001b[0m\u001b[1;33m(\u001b[0m\u001b[0mself\u001b[0m\u001b[1;33m)\u001b[0m\u001b[1;33m:\u001b[0m\u001b[1;33m\u001b[0m\u001b[1;33m\u001b[0m\u001b[0m\n\u001b[1;32m---> 18\u001b[1;33m         \u001b[1;32mreturn\u001b[0m \u001b[0mself\u001b[0m\u001b[1;33m.\u001b[0m\u001b[0mget_sum\u001b[0m\u001b[1;33m(\u001b[0m\u001b[1;33m)\u001b[0m \u001b[1;33m/\u001b[0m \u001b[1;36m4\u001b[0m\u001b[1;33m\u001b[0m\u001b[1;33m\u001b[0m\u001b[0m\n\u001b[0m",
      "\u001b[1;31mTypeError\u001b[0m: unsupported operand type(s) for /: 'str' and 'int'"
     ]
    }
   ],
   "source": [
    "import os\n",
    "import time\n",
    "\n",
    "while True:\n",
    "    os.system('cls')\n",
    "    print_menu()\n",
    "    menu = input(\"메뉴 입력 > \")\n",
    "    if menu == '5':\n",
    "        break\n",
    "    elif menu == '1':\n",
    "        sudents = insert(sudents)\n",
    "    elif menu == '2':\n",
    "        list_student(sudents)\n",
    "    elif menu == '3':\n",
    "        s_name = input(\"검색할 이름 > \")\n",
    "        student = search(sudents, s_name)\n",
    "\n",
    "        if not student == None:\n",
    "            print(\"이름\\t국어\\t영어\\t총점\\t평균\")\n",
    "            print(\"{}\\t{}\\t{}\\t{}\\t\\{:3.2f}\".format(student.name, student.korean, student.english, student.get_sum(), student.get_avg()))\n",
    "    else:\n",
    "        print_total()\n",
    "    time.sleep(1)"
   ]
  }
 ],
 "metadata": {
  "kernelspec": {
   "display_name": "Python 3 (ipykernel)",
   "language": "python",
   "name": "python3"
  },
  "language_info": {
   "codemirror_mode": {
    "name": "ipython",
    "version": 3
   },
   "file_extension": ".py",
   "mimetype": "text/x-python",
   "name": "python",
   "nbconvert_exporter": "python",
   "pygments_lexer": "ipython3",
   "version": "3.9.13"
  }
 },
 "nbformat": 4,
 "nbformat_minor": 5
}
