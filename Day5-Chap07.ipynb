{
 "cells": [
  {
   "cell_type": "code",
   "execution_count": null,
   "id": "be1e9e17",
   "metadata": {},
   "outputs": [],
   "source": [
    "# ! 로 커맨드 라인 명령 전송 가능 : !dir (도스, 리눅스, 맥 명령어 가능)"
   ]
  },
  {
   "cell_type": "code",
   "execution_count": 4,
   "id": "7e729b8b",
   "metadata": {},
   "outputs": [
    {
     "name": "stdout",
     "output_type": "stream",
     "text": [
      "Defaulting to user installation because normal site-packages is not writeable\n",
      "Requirement already satisfied: bs4 in c:\\users\\frank\\appdata\\roaming\\python\\python39\\site-packages (0.0.1)\n",
      "Requirement already satisfied: beautifulsoup4 in c:\\programdata\\anaconda3\\lib\\site-packages (from bs4) (4.11.1)\n",
      "Requirement already satisfied: soupsieve>1.2 in c:\\programdata\\anaconda3\\lib\\site-packages (from beautifulsoup4->bs4) (2.3.1)\n"
     ]
    }
   ],
   "source": [
    "!pip install bs4"
   ]
  },
  {
   "cell_type": "code",
   "execution_count": 11,
   "id": "9524b8c5",
   "metadata": {
    "scrolled": true
   },
   "outputs": [],
   "source": [
    "from bs4 import BeautifulSoup\n",
    "\n",
    "ex1 = '''\n",
    "<html>\n",
    "    <head>\n",
    "        <title> HTML 연습 </title>\n",
    "    </head>\n",
    "    <body>\n",
    "        <p align='center'> text 1 </p>\n",
    "        <p align='right'> text 2 </p>\n",
    "        <p align='left'> text 3 </p>\n",
    "        <img src=\"./HTML 예제/좌우명.png\">\n",
    "    </body>\n",
    "</html>\n",
    "'''"
   ]
  },
  {
   "cell_type": "code",
   "execution_count": 16,
   "id": "63ca203e",
   "metadata": {},
   "outputs": [
    {
     "name": "stdout",
     "output_type": "stream",
     "text": [
      "<p align=\"center\"> text 1 </p>\n",
      "<p align=\"right\"> text 2 </p>\n",
      "None\n"
     ]
    }
   ],
   "source": [
    "soup = BeautifulSoup(ex1)\n",
    "print(soup.find('p'))\n",
    "print(soup.find('p', align='right'))\n",
    "print(soup.find('q'))"
   ]
  },
  {
   "cell_type": "code",
   "execution_count": 23,
   "id": "f817c60e",
   "metadata": {},
   "outputs": [
    {
     "name": "stdout",
     "output_type": "stream",
     "text": [
      "[<p align=\"center\"> text 1 </p>, <p align=\"right\"> text 2 </p>, <p align=\"left\"> text 3 </p>]\n",
      "[<p align=\"center\"> text 1 </p>, <p align=\"right\"> text 2 </p>, <p align=\"left\"> text 3 </p>, <img src=\"./HTML 예제/좌우명.png\"/>]\n"
     ]
    }
   ],
   "source": [
    "print(soup.find_all('p'))\n",
    "\n",
    "# <p> 와 <img> 태그를 동시에 검색\n",
    "print(soup.find_all(('p', 'img')))"
   ]
  },
  {
   "cell_type": "code",
   "execution_count": 27,
   "id": "6e83ac8b",
   "metadata": {
    "scrolled": true
   },
   "outputs": [
    {
     "name": "stdout",
     "output_type": "stream",
     "text": [
      " text 1 \n",
      " text 1   text 1 \n",
      " text 1 \n",
      "\n",
      "a--- 1\n",
      " text 2 \n",
      " text 2   text 2 \n",
      " text 2 \n",
      "\n",
      "a--- 1\n",
      " text 3 \n",
      " text 3   text 3 \n",
      " text 3 \n",
      "\n",
      "a--- 1\n",
      "\n",
      " None\n",
      "\n",
      "\n"
     ]
    }
   ],
   "source": [
    "find_list = soup.find_all(('p', 'img'))\n",
    "for i in find_list:\n",
    "    print(i.text) # tag내 text 추출\n",
    "    print(i.text, i.string)\n",
    "    print(i.get_text())\n",
    "    print()\n",
    "    if i.get_text(): # 없으면  none return\n",
    "        print('a---', i.text.find('t'))"
   ]
  },
  {
   "cell_type": "code",
   "execution_count": 37,
   "id": "8ec84d08",
   "metadata": {},
   "outputs": [],
   "source": [
    "ex2 = '''\n",
    "<html>\n",
    "    <head>\n",
    "        <h1> 사야할 과일\n",
    "    </head>\n",
    "    <body>\n",
    "        <h1> 시장가서 사야할 과일 목록\n",
    "            <div>\n",
    "                <p id='fruits1' class='name1' title='바나나'> 바나나\n",
    "                <span class='price'> 3000원 </span>\n",
    "                <span class='count'> 10개 </span>\n",
    "                <span class='store'> 바나나가게 </span>\n",
    "                <a href='https://www.banana.com/%27%3E banana.com </a>\n",
    "                </p>\n",
    "            </div>\n",
    "            <div>\n",
    "                <p id='fruits2' class='name2' title='체리'> 체리\n",
    "                <span class='price'> 100원 </span>\n",
    "                <span class='count'> 50개 </span>\n",
    "                <span class='store'> 체리가게 </span>\n",
    "                <a href='https://www.cherry.com/%27%3E cherry.com </a>\n",
    "                </p>\n",
    "            </div>\n",
    "            <div>\n",
    "                <p id='fruits3' class='name3' title='오렌지'> 오렌지\n",
    "                <span class='price'> 500원 </span>\n",
    "                <span class='count'> 20개 </span>\n",
    "                <span class='store'> 오렌지가게 </span>\n",
    "                <a href='https://www.orange.com/%27%3E orange.com </a>\n",
    "                </p>\n",
    "            </div>\n",
    "    </body>\n",
    "</html>\n",
    "'''"
   ]
  },
  {
   "cell_type": "code",
   "execution_count": 38,
   "id": "79f50e09",
   "metadata": {},
   "outputs": [
    {
     "name": "stdout",
     "output_type": "stream",
     "text": [
      "[<p class=\"name1\" id=\"fruits1\" title=\"바나나\"> 바나나\n",
      "                <span class=\"price\"> 3000원 </span>\n",
      "<span class=\"count\"> 10개 </span>\n",
      "<span class=\"store\"> 바나나가게 </span>\n",
      "<a class=\"name2\" fruits2=\"\" href=\"https://www.banana.com/%27%3E banana.com &lt;/a&gt;\n",
      "                &lt;/p&gt;\n",
      "            &lt;/div&gt;\n",
      "            &lt;div&gt;\n",
      "                &lt;p id=\" title=\"체리\"> 체리\n",
      "                <span class=\"price\"> 100원 </span>\n",
      "<span class=\"count\"> 50개 </span>\n",
      "<span class=\"store\"> 체리가게 </span>\n",
      "</a><a class=\"name3\" fruits3=\"\" href=\"https://www.cherry.com/%27%3E cherry.com &lt;/a&gt;\n",
      "                &lt;/p&gt;\n",
      "            &lt;/div&gt;\n",
      "            &lt;div&gt;\n",
      "                &lt;p id=\" title=\"오렌지\"> 오렌지\n",
      "                <span class=\"price\"> 500원 </span>\n",
      "<span class=\"count\"> 20개 </span>\n",
      "<span class=\"store\"> 오렌지가게 </span>\n",
      "</a><a href=\"https://www.orange.com/%27%3E orange.com &lt;/a&gt;\n",
      "                &lt;/p&gt;\n",
      "            &lt;/div&gt;\n",
      "    &lt;/body&gt;\n",
      "&lt;/html&gt;\n",
      "\"></a></p>]\n",
      "[<span class=\"price\"> 3000원 </span>, <span class=\"count\"> 10개 </span>, <span class=\"store\"> 바나나가게 </span>]\n",
      "[]\n"
     ]
    }
   ],
   "source": [
    "soup = BeautifulSoup(ex2)\n",
    "\n",
    "# select(\"tag 명\")\n",
    "# select(\".class명\") class 명을 이용하여 추출\n",
    "#      select(\"tag명.class명\") -> select(p.name1)\n",
    "#      find(tag 명, class_=\"class명\")\n",
    "# select(\".class명\")\n",
    "# class = name1을 추출\n",
    "print(soup.select('.name1'))\n",
    "\n",
    "# select(\"상위태그>하위태그>하위태그\")\n",
    "print(soup.select('div>p>span'))\n",
    "\n",
    "# select(\"tag명[속성]\") 이용내용 추출\n",
    "print(soup.select('a[herf]'))"
   ]
  },
  {
   "cell_type": "code",
   "execution_count": null,
   "id": "17bacdcc",
   "metadata": {},
   "outputs": [],
   "source": []
  }
 ],
 "metadata": {
  "kernelspec": {
   "display_name": "Python 3 (ipykernel)",
   "language": "python",
   "name": "python3"
  },
  "language_info": {
   "codemirror_mode": {
    "name": "ipython",
    "version": 3
   },
   "file_extension": ".py",
   "mimetype": "text/x-python",
   "name": "python",
   "nbconvert_exporter": "python",
   "pygments_lexer": "ipython3",
   "version": "3.9.13"
  }
 },
 "nbformat": 4,
 "nbformat_minor": 5
}
