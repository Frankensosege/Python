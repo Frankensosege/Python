{
 "cells": [
  {
   "cell_type": "markdown",
   "id": "3b54a686",
   "metadata": {},
   "source": [
    "# Python 기본문법\n",
    "## chap01-3 파이썬에서 자주 나오는 용어들"
   ]
  },
  {
   "cell_type": "code",
   "execution_count": 1,
   "id": "b5ca0c6b",
   "metadata": {},
   "outputs": [
    {
     "name": "stdout",
     "output_type": "stream",
     "text": [
      "Hello python\n"
     ]
    }
   ],
   "source": [
    "print('Hello python')"
   ]
  },
  {
   "cell_type": "code",
   "execution_count": 7,
   "id": "50a95bdc",
   "metadata": {},
   "outputs": [
    {
     "data": {
      "text/plain": [
       "10"
      ]
     },
     "execution_count": 7,
     "metadata": {},
     "output_type": "execute_result"
    }
   ],
   "source": [
    "10"
   ]
  },
  {
   "cell_type": "code",
   "execution_count": 8,
   "id": "33e8837c",
   "metadata": {},
   "outputs": [
    {
     "name": "stdout",
     "output_type": "stream",
     "text": [
      "['False', 'None', 'True', '__peg_parser__', 'and', 'as', 'assert', 'async', 'await', 'break', 'class', 'continue', 'def', 'del', 'elif', 'else', 'except', 'finally', 'for', 'from', 'global', 'if', 'import', 'in', 'is', 'lambda', 'nonlocal', 'not', 'or', 'pass', 'raise', 'return', 'try', 'while', 'with', 'yield']\n"
     ]
    }
   ],
   "source": [
    "import keyword\n",
    "\n",
    "print(keyword.kwlist)"
   ]
  },
  {
   "cell_type": "code",
   "execution_count": 10,
   "id": "ecdc3f53",
   "metadata": {},
   "outputs": [
    {
     "data": {
      "text/plain": [
       "'test'"
      ]
     },
     "execution_count": 10,
     "metadata": {},
     "output_type": "execute_result"
    }
   ],
   "source": [
    "'test'"
   ]
  },
  {
   "cell_type": "code",
   "execution_count": 12,
   "id": "dbd41bcd",
   "metadata": {},
   "outputs": [
    {
     "name": "stdout",
     "output_type": "stream",
     "text": [
      "test 10 20 abcd\n"
     ]
    }
   ],
   "source": [
    "#print() 함수실행\n",
    "print('test', 10, 20, 'abcd')"
   ]
  },
  {
   "cell_type": "code",
   "execution_count": 14,
   "id": "891ea70b",
   "metadata": {},
   "outputs": [
    {
     "name": "stdout",
     "output_type": "stream",
     "text": [
      "test##10##20##abcdhello\n"
     ]
    }
   ],
   "source": [
    "print('test', 10, 20, 'abcd', sep='##', end='')\n",
    "print('hello')"
   ]
  },
  {
   "cell_type": "code",
   "execution_count": 15,
   "id": "d826fa8f",
   "metadata": {},
   "outputs": [
    {
     "name": "stdout",
     "output_type": "stream",
     "text": [
      "test\t10\t20\tabcdhello\n"
     ]
    }
   ],
   "source": [
    "print('test', 10, 20, 'abcd', sep='\\t', end='')\n",
    "print('hello')"
   ]
  },
  {
   "cell_type": "code",
   "execution_count": 20,
   "id": "e50397da",
   "metadata": {},
   "outputs": [
    {
     "name": "stdout",
     "output_type": "stream",
     "text": [
      "# 하나만 출력합니다.\n",
      "Hello Python Programming....!\n",
      "\n",
      "# 여러개를 출력합니다.\n",
      "10 20 30 40 50\n",
      "Hello Python Programming....!\n",
      "\n",
      "# 아무것도 출력하지 않습니다.\n",
      " -- 확인 전용선 -- \n",
      "\n",
      "\n",
      " -- 확인 전용선 -- \n"
     ]
    }
   ],
   "source": [
    "#하나만 출력합니다.\n",
    "print(\"# 하나만 출력합니다.\")\n",
    "print(\"Hello Python Programming....!\")\n",
    "print()\n",
    "\n",
    "# 여러개를 출력합니다.\n",
    "print(\"# 여러개를 출력합니다.\")\n",
    "print(10, 20, 30, 40, 50)\n",
    "print(\"Hello\", \"Python\", \"Programming....!\")\n",
    "print()\n",
    "\n",
    "# 아무것도 입력하지 않으면 단순하게 줄바꿈을 합니다.\n",
    "print(\"# 아무것도 출력하지 않습니다.\")\n",
    "print(\" -- 확인 전용선 -- \")\n",
    "print()\n",
    "print()\n",
    "print(\" -- 확인 전용선 -- \")"
   ]
  },
  {
   "cell_type": "markdown",
   "id": "4e004810",
   "metadata": {},
   "source": [
    "# chap02 자료형\n",
    "## chap02 - 자료형과 문자열\n",
    "\n",
    "# 자료형과 기본 자료형\n",
    "- 문자열 : ' ' 또는 \" \"\n",
    "- 숫자 : int, float\n",
    "- 불리언 : True, False"
   ]
  },
  {
   "cell_type": "code",
   "execution_count": 21,
   "id": "3faf15bd",
   "metadata": {},
   "outputs": [
    {
     "name": "stdout",
     "output_type": "stream",
     "text": [
      "<class 'str'>\n",
      "<class 'float'>\n",
      "<class 'bool'>\n"
     ]
    }
   ],
   "source": [
    "# type(네이터) -> 데이터의 자료형\n",
    "print(type('테스트'))  # class str\n",
    "print(type(56.3))  # class float\n",
    "print(type(True))  # class boolean"
   ]
  },
  {
   "cell_type": "code",
   "execution_count": 23,
   "id": "f3b70ff2",
   "metadata": {},
   "outputs": [
    {
     "name": "stdout",
     "output_type": "stream",
     "text": [
      "hello's\n"
     ]
    }
   ],
   "source": [
    "# print('hello's')  #e rr '을 일반문자로 출력'\n",
    "# esc 문자 \\를 사용 특수문자를 일반문자로\n",
    "# \\n, \\t 사용 가능\n",
    "print('hello\\'s')"
   ]
  },
  {
   "cell_type": "code",
   "execution_count": 30,
   "id": "3ae41bd8",
   "metadata": {},
   "outputs": [
    {
     "name": "stdout",
     "output_type": "stream",
     "text": [
      "abcd \n",
      " 일반 문자\n",
      "\n",
      "\n",
      "test abcd\n",
      "일반\n",
      "문자\n",
      "\n",
      "test abcd\n",
      "일반\n",
      "문자\n",
      "test abcd\n",
      "일반\n",
      "문자\n"
     ]
    }
   ],
   "source": [
    "# 여러줄에 걸쳐 문자열 출력\n",
    "print('abcd \\n 일반 문자')\n",
    "print()\n",
    "print('''\n",
    "test abcd\n",
    "일반\n",
    "문자''')\n",
    "print()\n",
    "print('''\\\n",
    "test abcd\n",
    "일반\n",
    "문자''')\n",
    "print(\"\"\"\\\n",
    "test abcd\n",
    "일반\n",
    "문자\"\"\")"
   ]
  },
  {
   "cell_type": "code",
   "execution_count": 36,
   "id": "e34af5ec",
   "metadata": {},
   "outputs": [
    {
     "name": "stdout",
     "output_type": "stream",
     "text": [
      "안녕하세요 python\n",
      "안녕하세요1\n",
      "안녕하세요안녕하세요안녕하세요\n",
      "testtesttest\n"
     ]
    }
   ],
   "source": [
    "# 문장열 연산자 : +, *\n",
    "print('안녕하세요' + ' python')\n",
    "print('안녕하세요' + '1')\n",
    "print('안녕하세요' * 3)\n",
    "print(3 * 'test')"
   ]
  },
  {
   "cell_type": "code",
   "execution_count": 39,
   "id": "b3ca64a9",
   "metadata": {},
   "outputs": [
    {
     "name": "stdout",
     "output_type": "stream",
     "text": [
      "안\n",
      "녕\n",
      "하\n",
      "세\n",
      "요\n",
      "\n",
      "요\n",
      "세\n",
      "하\n",
      "녕\n",
      "안\n"
     ]
    }
   ],
   "source": [
    "# 문자열 인덱싱 : 0 부터 시작\n",
    "print('안녕하세요'[0]) # '안'\n",
    "print('안녕하세요'[1]) # '녕'\n",
    "print('안녕하세요'[2]) # '하'\n",
    "print('안녕하세요'[3]) # '세'\n",
    "print('안녕하세요'[4]) # '요'\n",
    "#print('안녕하세요'[5]) # err\n",
    "print()\n",
    "print('안녕하세요'[-1]) # '요'\n",
    "print('안녕하세요'[-2]) # '세'\n",
    "print('안녕하세요'[-3]) # '하'\n",
    "print('안녕하세요'[-4]) # '녕'\n",
    "print('안녕하세요'[-5]) # '안'"
   ]
  },
  {
   "cell_type": "code",
   "execution_count": 42,
   "id": "48e7c687",
   "metadata": {},
   "outputs": [
    {
     "name": "stdout",
     "output_type": "stream",
     "text": [
      "안녕\n",
      "안녕\n",
      "세요\n",
      "요\n",
      "요\n"
     ]
    }
   ],
   "source": [
    "# 안녕하세요 -> 문자열 일부를 자르기\n",
    "# 문자열[start:stop] -> start는 포함 stop는 불포함\n",
    "print('안녕하세요'[0:2]) #안녕\n",
    "\n",
    "# 문자열[:stop] -> 처음부터 stop 전까지\n",
    "print('안녕하세요'[:2]) #안녕\n",
    "\n",
    "# 문자열[start:] -> Start부터 끝까지\n",
    "print('안녕하세요'[3:]) #세요\n",
    "\n",
    "# 문자열[-1] : 마지막 문자\n",
    "print('안녕하세요'[-1]) #요\n",
    "\n",
    "# 문자열[-1] : 마지막 문자 또는 전체길이의 -1 인덱스\n",
    "print('안녕하세요'[len('안녕하세요')-1]) #요"
   ]
  },
  {
   "cell_type": "code",
   "execution_count": 43,
   "id": "07600e75",
   "metadata": {},
   "outputs": [
    {
     "name": "stdout",
     "output_type": "stream",
     "text": [
      "30 8.333333333333334 8 1\n"
     ]
    }
   ],
   "source": [
    "# 숫자 : 연산자 +, -, *, /, //, %, **\n",
    "print(10+20, 25/3, 25//3, 25%3)"
   ]
  },
  {
   "cell_type": "code",
   "execution_count": 44,
   "id": "99991875",
   "metadata": {},
   "outputs": [
    {
     "name": "stdout",
     "output_type": "stream",
     "text": [
      "str1\n"
     ]
    },
    {
     "data": {
      "text/plain": [
       "20"
      ]
     },
     "execution_count": 44,
     "metadata": {},
     "output_type": "execute_result"
    }
   ],
   "source": [
    "print('str' + str(1))\n",
    "\n",
    "10  + int('10')"
   ]
  },
  {
   "cell_type": "markdown",
   "id": "1e781d86",
   "metadata": {},
   "source": [
    "# chap02 - 3 변수와 입력"
   ]
  },
  {
   "cell_type": "code",
   "execution_count": 48,
   "id": "6ca46973",
   "metadata": {},
   "outputs": [
    {
     "name": "stdout",
     "output_type": "stream",
     "text": [
      "3.1415 2618111179760\n",
      "hello 2618107615344\n",
      "hello 2618107615344\n"
     ]
    }
   ],
   "source": [
    "# 변수선언 : 변수명 = 값\n",
    "pi = 3.1415\n",
    "print(pi, id(pi))\n",
    "\n",
    "pi = 'hello'\n",
    "print(pi, id(pi))\n",
    "\n",
    "pi_copy = pi\n",
    "print(pi_copy, id(pi_copy))"
   ]
  },
  {
   "cell_type": "code",
   "execution_count": 53,
   "id": "4c1a7842",
   "metadata": {},
   "outputs": [
    {
     "name": "stdout",
     "output_type": "stream",
     "text": [
      "2618034489584\n",
      "2618038783344\n"
     ]
    }
   ],
   "source": [
    "a = \"String\"\n",
    "print(id(a))\n",
    "b = \"String\"\n",
    "print(id(b))"
   ]
  },
  {
   "cell_type": "code",
   "execution_count": 65,
   "id": "5324373e",
   "metadata": {},
   "outputs": [
    {
     "name": "stdout",
     "output_type": "stream",
     "text": [
      "3.0\n"
     ]
    }
   ],
   "source": [
    "x = 10.444\n",
    "s = x // 3\n",
    "print(s)"
   ]
  },
  {
   "cell_type": "code",
   "execution_count": 66,
   "id": "588b726b",
   "metadata": {},
   "outputs": [
    {
     "name": "stdout",
     "output_type": "stream",
     "text": [
      "hello hello hello \n"
     ]
    }
   ],
   "source": [
    "a_str = 'hello '\n",
    "a_str *= 3\n",
    "print(a_str)"
   ]
  },
  {
   "cell_type": "code",
   "execution_count": 71,
   "id": "0f0dc268",
   "metadata": {},
   "outputs": [
    {
     "name": "stdout",
     "output_type": "stream",
     "text": [
      "인사말을 입력하세요30\n",
      "30 <class 'str'>\n",
      "40\n"
     ]
    }
   ],
   "source": [
    "#사용자 입력  input()\n",
    "in_str = input('인사말을 입력하세요')\n",
    "print(in_str, type(in_str))\n",
    "\n",
    "print(int(in_str) + 10)"
   ]
  },
  {
   "cell_type": "code",
   "execution_count": 81,
   "id": "b61c2240",
   "metadata": {},
   "outputs": [
    {
     "name": "stdout",
     "output_type": "stream",
     "text": [
      "첫번째 숫자를 입력하세요 323\n",
      "두번째 숫자를 입력하세요 424\n",
      "323 + 424 = 747\n",
      "323 + 424 = 747\n",
      "323 + 424 = 747\n"
     ]
    }
   ],
   "source": [
    "in_f = input('첫번째 숫자를 입력하세요 ')\n",
    "in_s = input('두번째 숫자를 입력하세요 ')\n",
    "\n",
    "\n",
    "print(in_f, '+', in_s, '=', int(in_f) + int(in_s))\n",
    "print(f'{in_f} + {in_s} = {int(in_f) + int(in_s)}')\n",
    "print('{} + {} = {}'.format(in_f, in_s, int(in_f) + int(in_s)))"
   ]
  },
  {
   "cell_type": "code",
   "execution_count": 80,
   "id": "0698b1d5",
   "metadata": {},
   "outputs": [
    {
     "name": "stdout",
     "output_type": "stream",
     "text": [
      "실수 입력> 232.44\n",
      "실수 입력> 234.123\n",
      "232.44 + 234.123 = 466.563\n",
      "232.44 * 234.123 = 54419.55012\n",
      "232.44 - 234.123 = -1.68\n"
     ]
    }
   ],
   "source": [
    "in_f = float(input('실수 입력> '))\n",
    "in_s = float(input('실수 입력> '))\n",
    "\n",
    "print(f'{in_f} + {in_s} = {in_f + in_s}')\n",
    "print(f'{in_f} * {in_s} = {in_f * in_s}')\n",
    "print(f'{in_f} - {in_s} = {in_f - in_s:3.2f}')"
   ]
  },
  {
   "cell_type": "code",
   "execution_count": 82,
   "id": "a4037e6c",
   "metadata": {},
   "outputs": [
    {
     "data": {
      "text/plain": [
       "'100 test 200'"
      ]
     },
     "execution_count": 82,
     "metadata": {},
     "output_type": "execute_result"
    }
   ],
   "source": [
    "# 문자열 관련 함수 : 문자열.format()\n",
    "a_string = \"{} {} {}\".format(100, 'test', 200)\n",
    "a_string"
   ]
  },
  {
   "cell_type": "code",
   "execution_count": 83,
   "id": "02aead37",
   "metadata": {},
   "outputs": [
    {
     "data": {
      "text/plain": [
       "str"
      ]
     },
     "execution_count": 83,
     "metadata": {},
     "output_type": "execute_result"
    }
   ],
   "source": [
    "len(a_string)\n",
    "type(a_string)"
   ]
  },
  {
   "cell_type": "code",
   "execution_count": 84,
   "id": "733c051a",
   "metadata": {},
   "outputs": [
    {
     "name": "stdout",
     "output_type": "stream",
     "text": [
      "HELLO PYTHON PROGRAMMING!!\n",
      "hello python programming!!\n"
     ]
    }
   ],
   "source": [
    "# 대소문자 바꾸기 : 문자열.upper(), 문자열.lower()\n",
    "a = \"Hello Python Programming!!\"\n",
    "print(a.upper())\n",
    "print(a.lower())"
   ]
  },
  {
   "cell_type": "code",
   "execution_count": 87,
   "id": "ce136e4c",
   "metadata": {},
   "outputs": [
    {
     "name": "stdout",
     "output_type": "stream",
     "text": [
      "Hello Python Programming!!\n",
      "Hello Python Programming!!##\n",
      "##Hello Python Programming!!\n"
     ]
    }
   ],
   "source": [
    "# 문자열 양옆에 공백제거 또는 문자제거: 문자열.strip()\n",
    "# 문자열.lstrip(), 문자열.rstrip()\n",
    "a = \"##Hello Python Programming!!##\"\n",
    "#print(a.strip())\n",
    "print(a.strip('#'))\n",
    "print(a.lstrip('#'))\n",
    "print(a.rstrip('#'))"
   ]
  },
  {
   "cell_type": "code",
   "execution_count": 93,
   "id": "d03b2ea8",
   "metadata": {},
   "outputs": [
    {
     "name": "stdout",
     "output_type": "stream",
     "text": [
      "True\n"
     ]
    }
   ],
   "source": [
    "# isOO(): 문자열내 자료 타입확인 -> True, False\n",
    "print(\"35\".isnumeric())"
   ]
  },
  {
   "cell_type": "code",
   "execution_count": 105,
   "id": "c440f988",
   "metadata": {},
   "outputs": [
    {
     "name": "stdout",
     "output_type": "stream",
     "text": [
      "0\n",
      "hello pyth\n",
      "hello python hello program hello test\n",
      "hello program hello test\n"
     ]
    }
   ],
   "source": [
    "# 문자열 검색 : find(), rfind()\n",
    "\n",
    "a_str = 'hello python hello program hello test'\n",
    "print(a_str.find('hello'))\n",
    "# hello가나온 위치 부터 10개문자 출력\n",
    "print(a_str[a_str.find('hello'):a_str.find('hello')+10])\n",
    "# 뒤에서 hello가나온 위치 부터 10개문자 출력\n",
    "print(a_str[a_str.find('hello'):])\n",
    "\n",
    "\n",
    "print(a_str[a_str[a_str.find('hello') + len('hello'):].find('hello') + len('hello'):])\n"
   ]
  },
  {
   "cell_type": "code",
   "execution_count": 112,
   "id": "762401b7",
   "metadata": {},
   "outputs": [
    {
     "name": "stdout",
     "output_type": "stream",
     "text": [
      "구의 반지름을 입력하세요34.0\n",
      "구의부피는 : 4842.098666666667\n",
      "구의겉넓이는 : 14526.296\n"
     ]
    }
   ],
   "source": [
    "# 도전문제 1\n",
    "radi = float(input(\"구의 반지름을 입력하세요\"))\n",
    "pi = 3.1415\n",
    "print(f\"구의부피는 : {4*pi*radi**2/3}\")\n",
    "print(f\"구의겉넓이는 : {4*pi*radi**2}\")"
   ]
  },
  {
   "cell_type": "code",
   "execution_count": 113,
   "id": "c3eba6b8",
   "metadata": {},
   "outputs": [
    {
     "name": "stdout",
     "output_type": "stream",
     "text": [
      "밑변의 길이를 입력하세요44.3\n",
      "높이의 길이를 입력하세요34.3\n",
      "빗변의 길이는 : 56.02660082496527\n"
     ]
    }
   ],
   "source": [
    "# 도전문제 2\n",
    "\n",
    "width = float(input(\"밑변의 길이를 입력하세요\"))\n",
    "height = float(input(\"높이의 길이를 입력하세요\"))\n",
    "\n",
    "print(f\"빗변의 길이는 : {(width**2+height**2)**(1/2)}\")"
   ]
  }
 ],
 "metadata": {
  "kernelspec": {
   "display_name": "Python 3 (ipykernel)",
   "language": "python",
   "name": "python3"
  },
  "language_info": {
   "codemirror_mode": {
    "name": "ipython",
    "version": 3
   },
   "file_extension": ".py",
   "mimetype": "text/x-python",
   "name": "python",
   "nbconvert_exporter": "python",
   "pygments_lexer": "ipython3",
   "version": "3.9.13"
  }
 },
 "nbformat": 4,
 "nbformat_minor": 5
}
