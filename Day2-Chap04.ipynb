{
 "cells": [
  {
   "cell_type": "markdown",
   "id": "1f3cf7bf",
   "metadata": {},
   "source": [
    "# Chap04-1 리스트와 반복문"
   ]
  },
  {
   "cell_type": "code",
   "execution_count": 2,
   "id": "86298bb2",
   "metadata": {},
   "outputs": [
    {
     "name": "stdout",
     "output_type": "stream",
     "text": [
      "273\n",
      "True\n",
      "[32, 102]\n"
     ]
    }
   ],
   "source": [
    "# 리스트 선언 : [요소, .....]\n",
    "a_list = [273, 32, 102, '문자열', True]\n",
    "\n",
    "# 리스트의 사용: 리스트[인덱스]\n",
    "print(a_list[0]) #273\n",
    "print(a_list[-1]) #True\n",
    "print(a_list[1:3]) #273\n",
    "#print(a_list[10]) #index err"
   ]
  },
  {
   "cell_type": "code",
   "execution_count": 3,
   "id": "ff480e9d",
   "metadata": {},
   "outputs": [
    {
     "name": "stdout",
     "output_type": "stream",
     "text": [
      "3 <class 'list'>\n",
      "[1, 2, 3, 4, 5, 6]\n",
      "[1, 2, 3, 1, 2, 3, 1, 2, 3]\n"
     ]
    }
   ],
   "source": [
    "#list 연산\n",
    "a_list = [1, 2, 3]\n",
    "b_list = [4, 5, 6]\n",
    "\n",
    "print(len(a_list), type(a_list))\n",
    "print(a_list + b_list)\n",
    "print(a_list * 3)\n",
    "\n",
    "print(a_list)"
   ]
  },
  {
   "cell_type": "code",
   "execution_count": 6,
   "id": "17d23703",
   "metadata": {},
   "outputs": [
    {
     "name": "stdout",
     "output_type": "stream",
     "text": [
      "[1, 10, 2, 3, 4, 4, 4]\n",
      "[1, 10, 10, 2, 3, 4, 4, 4]\n",
      "[1, 10, 10, 2, 3, 4, 4, 4, [4, 5, 6]]\n"
     ]
    }
   ],
   "source": [
    "# 기존리스트에 자료 추가:리스트.append(), 리스트.insert()\n",
    "a_list.append(4) #마지막에 자료 추가\n",
    "print(a_list) #1, 2, 3, 4\n",
    "\n",
    "#리스트 1번 인덱스에 자료 추가\n",
    "a_list.insert(1, 10)\n",
    "print(a_list) #1, 10, 2, 3, 4\n",
    "\n",
    "a_list.append(b_list)\n",
    "print(a_list) #1, 10, 2, 3, 4, [4, 5, 6]"
   ]
  },
  {
   "cell_type": "code",
   "execution_count": 2,
   "id": "21bdb5f5",
   "metadata": {},
   "outputs": [
    {
     "name": "stdout",
     "output_type": "stream",
     "text": [
      "[1, 2, 3, 4, 5, 6]\n"
     ]
    }
   ],
   "source": [
    "a_list = [1, 2, 3]\n",
    "b_list = [4, 5, 6]\n",
    "\n",
    "#리스트에 리스트의 요소를 풀어서 추가 : a_list.extend()\n",
    "a_list.extend(b_list)\n",
    "print(a_list)"
   ]
  },
  {
   "cell_type": "code",
   "execution_count": 6,
   "id": "cfedd9e4",
   "metadata": {},
   "outputs": [
    {
     "name": "stdout",
     "output_type": "stream",
     "text": [
      "[2, 3, 4]\n",
      "[2, 3]\n",
      "[]\n"
     ]
    }
   ],
   "source": [
    "print(a_list)\n",
    "\n",
    "#리스트의 요소제거 : del 리스트[인덱스], 리스트.pop(index)\n",
    "#리스트의 모든 요소제거 : 리스트.clear()\n",
    "a_list.pop()\n",
    "print(a_list)\n",
    "del a_list[0:2]\n",
    "print(a_list)\n",
    "\n",
    "a_list = [1, 2, 3, 4, 5, 6]\n",
    "a_list[1::2]\n",
    "a_list[::-1]\n",
    "\n",
    "a_list.clear()\n",
    "a_list"
   ]
  },
  {
   "cell_type": "code",
   "execution_count": 12,
   "id": "ba487228",
   "metadata": {},
   "outputs": [
    {
     "name": "stdout",
     "output_type": "stream",
     "text": [
      "[1, 3, 4, 5, 6]\n"
     ]
    }
   ],
   "source": [
    "# 리스트에서 값을 제거 : 리스트.remove(값)\n",
    "a_list = [1, 2, 3, 4, 5, 6]\n",
    "a_list.remove(2)\n",
    "print(a_list)"
   ]
  },
  {
   "cell_type": "code",
   "execution_count": 16,
   "id": "38343cb9",
   "metadata": {},
   "outputs": [
    {
     "name": "stdout",
     "output_type": "stream",
     "text": [
      "[78, 54, 12, 10, 6, 4, 4, 2]\n"
     ]
    }
   ],
   "source": [
    "# 리스트 정렬 : 리스트.sort()\n",
    "a_list = [4, 2, 78, 4, 6, 12, 54, 10]\n",
    "a_list.sort(reverse=True)\n",
    "print(a_list)"
   ]
  },
  {
   "cell_type": "code",
   "execution_count": 18,
   "id": "c0305282",
   "metadata": {},
   "outputs": [
    {
     "name": "stdout",
     "output_type": "stream",
     "text": [
      "True\n",
      "False\n"
     ]
    }
   ],
   "source": [
    "print(10 in a_list) #True\n",
    "print(10 not in a_list) #False"
   ]
  },
  {
   "cell_type": "code",
   "execution_count": 19,
   "id": "745fed34",
   "metadata": {},
   "outputs": [],
   "source": [
    "# 리스트 선언 : 변수명 = [요소, ...]\n",
    "# 리스트에 요소 추가 : 리스트.append(요소), 리스트.insert(인덱스, 요소), 리스트.extend(리스트)\n",
    "# 리스트 자료수정 : 리스트[인덱스] = 값\n",
    "# 리스트 자료 삭제 : 리스트.pop(인덱스), del 리스트[인덱스] -> [start:stop:step]\n",
    "# 리스트 값으로 자료 삭제 : 리스트.remove(값)\n",
    "# 리스트 전체 자료 삭제 : 리스트.clear()\n",
    "# 리스트에 자료가 있는지 확인 : 값 in 리스트 -> True, False"
   ]
  },
  {
   "cell_type": "code",
   "execution_count": 24,
   "id": "3cd39565",
   "metadata": {},
   "outputs": [
    {
     "name": "stdout",
     "output_type": "stream",
     "text": [
      "[[1, 2, 3], 4]\n",
      "[1, 2, 3, 4]\n",
      "[1, 2, 3, 1, 2, 3]\n",
      "1 2 3 1 2 3\n"
     ]
    }
   ],
   "source": [
    "a_list = [1, 2, 3]\n",
    "c_list = [a_list, 4]\n",
    "print(c_list)\n",
    "\n",
    "c_list = [*a_list, 4] #전개연산자 *\n",
    "print(c_list)\n",
    "\n",
    "c_list = [*a_list, *a_list] #전개연산자 *\n",
    "print(c_list)\n",
    "print(*c_list)"
   ]
  },
  {
   "cell_type": "code",
   "execution_count": 26,
   "id": "b2765b19",
   "metadata": {},
   "outputs": [
    {
     "name": "stdout",
     "output_type": "stream",
     "text": [
      "t, e, s, t,  , 1, 2, 3, "
     ]
    }
   ],
   "source": [
    "# 반복문 : for 반복자 in 반복자료:\n",
    "str_a = 'test 123'\n",
    "for char in str_a:\n",
    "    print(char, end=', ')"
   ]
  },
  {
   "cell_type": "code",
   "execution_count": 29,
   "id": "ceebd79f",
   "metadata": {},
   "outputs": [
    {
     "name": "stdout",
     "output_type": "stream",
     "text": [
      "15\n"
     ]
    }
   ],
   "source": [
    "a_list = [4, 5, 6]\n",
    "total = 0\n",
    "for num in a_list:\n",
    "    total += num\n",
    "print(total)"
   ]
  },
  {
   "cell_type": "code",
   "execution_count": 30,
   "id": "3ac9a183",
   "metadata": {},
   "outputs": [
    {
     "name": "stdout",
     "output_type": "stream",
     "text": [
      "1\n",
      "2\n",
      "3\n",
      "4\n",
      "5\n",
      "6\n",
      "7\n",
      "8\n",
      "9\n",
      "10\n"
     ]
    }
   ],
   "source": [
    "# 중첩 리스트와 반복문\n",
    "list_array = [[1,2,3], [4,5,6,7], [8,9,10]]\n",
    "\n",
    "for list_1 in list_array:\n",
    "    for eliment in list_1:\n",
    "        print(eliment)"
   ]
  },
  {
   "cell_type": "code",
   "execution_count": 75,
   "id": "7919e326",
   "metadata": {},
   "outputs": [
    {
     "name": "stdout",
     "output_type": "stream",
     "text": [
      "학생수 입력 > 5\n",
      "성적입력 > 4\n",
      "성적입력 > 4\n",
      "성적입력 > 4\n",
      "성적입력 > 4\n",
      "성적입력 > 4\n",
      "[4, 4, 4, 4, 4]\n",
      "총점 : 20, 평균 : 4.00\n"
     ]
    }
   ],
   "source": [
    "# 학생의 수 입력\n",
    "# 입력받은 학생수 만큼 성적을 입력 받아 합과 평균(평균은 소수점 미만 2자리까지)\n",
    "std_cnt = int(input('학생수 입력 > '))\n",
    "total = 0\n",
    "scores = []\n",
    "for _ in range(std_cnt):\n",
    "    score = int(input('성적입력 > '))\n",
    "    scores.append(score)\n",
    "\n",
    "for i in scores:\n",
    "    total += i\n",
    "    \n",
    "# for _ in range(std_cnt):\n",
    "#     score = int(input('성적입력 > '))\n",
    "#     total += score\n",
    "print(scores)\n",
    "print(f\"총점 : {total}, 평균 : {total/std_cnt:3.2f}\")\n"
   ]
  },
  {
   "cell_type": "markdown",
   "id": "ce485e81",
   "metadata": {},
   "source": [
    "## Chap04-2 딕셔너리와 반복문"
   ]
  },
  {
   "cell_type": "code",
   "execution_count": 78,
   "id": "67d8e9af",
   "metadata": {},
   "outputs": [
    {
     "name": "stdout",
     "output_type": "stream",
     "text": [
      "name\n",
      "name : test\n",
      "type : student\n",
      "{'name': 'test', 'type': 'student'}\n"
     ]
    }
   ],
   "source": [
    "# dic = {키 : 값, .....}\n",
    "# dic[키] 접근 -> 값을 반환\n",
    "dict_a = {'name' : 'test',\n",
    "         'type' : 'student'}\n",
    "print('name')\n",
    "\n",
    "# dic의 모든 값 출력\n",
    "for key in dict_a:\n",
    "    print(f'{key} : {dict_a[key]}')\n",
    "print(dict_a)"
   ]
  },
  {
   "cell_type": "code",
   "execution_count": 83,
   "id": "1999f1ac",
   "metadata": {},
   "outputs": [
    {
     "name": "stdout",
     "output_type": "stream",
     "text": [
      "{'name': 'test', 'type': 'student', 'e_mail': 'abcd'}\n",
      "{'name': 'test', 'type': 'student', 'e_mail': 'test'}\n",
      "{'name': 'test', 'type': 'student'}\n",
      "1962857023088\n"
     ]
    }
   ],
   "source": [
    "# dict에 값 추가 -> dict[키] = 값\n",
    "dict_a['e_mail'] = 'abcd'\n",
    "print(dict_a)\n",
    "dict_a['e_mail'] = 'test' #수정\n",
    "print(dict_a)\n",
    "\n",
    "# 딕셔너리 값제거 : del dict[키]\n",
    "del dict_a['e_mail']\n",
    "print(dict_a)\n",
    "\n",
    "#print(dict_a['e_mail'])"
   ]
  },
  {
   "cell_type": "code",
   "execution_count": 89,
   "id": "5a07d311",
   "metadata": {},
   "outputs": [
    {
     "name": "stdout",
     "output_type": "stream",
     "text": [
      "False\n",
      "student\n",
      "__None__\n",
      "student\n"
     ]
    }
   ],
   "source": [
    "# 값 in 리스트 vs 키 in 딕셔너리\n",
    "print('e_mail' in dict_a) #False\n",
    "\n",
    "# get() -> 딕셔너리.get(키) -> 값을반환\n",
    "print(dict_a.get('type'))\n",
    "print(f\"__{dict_a.get('e_mail')}__\")\n",
    "\n",
    "#value = dict_a.get('키')\n",
    "value = dict_a.get('type')\n",
    "if value:\n",
    "    print(value)\n",
    "else:\n",
    "    print('존재하지않는 키')"
   ]
  },
  {
   "cell_type": "code",
   "execution_count": 90,
   "id": "014db142",
   "metadata": {},
   "outputs": [
    {
     "name": "stdout",
     "output_type": "stream",
     "text": [
      "{1: 1, 2: 10, 3: 4, 4: 5, 5: 3, 6: 2, 8: 1}\n"
     ]
    }
   ],
   "source": [
    "numbers = [1, 2, 3, 2, 3,4,5,5,6,2,2,4,2,4,2,5,2,3,4,4,3,8,2,2,2,6]\n",
    "counter = {}\n",
    "for number in numbers:\n",
    "    if number in counter:\n",
    "        counter[number] += 1\n",
    "    else:\n",
    "        counter[number] = 1\n",
    "print(counter)"
   ]
  },
  {
   "cell_type": "code",
   "execution_count": 97,
   "id": "1c3d3b43",
   "metadata": {},
   "outputs": [
    {
     "name": "stdout",
     "output_type": "stream",
     "text": [
      "학생 수 > 3\n",
      "이름 > 강수연\n",
      "점수 >50\n",
      "이름 > 김현주\n",
      "점수 >[30, 40]\n",
      "이름 > 이정재\n",
      "점수 >50\n"
     ]
    }
   ],
   "source": [
    "# 1. 학생수 입력\n",
    "# 2. 입력한 학생수 만큼 이름을 키로 성적을 값으로\n",
    "# 3. 검색할 이른을 입력받아 성적 출력 하고 없는 경우 자료없음 출력\n",
    "\n",
    "std_cnt = int(input('학생 수 > '))\n",
    "scores = {}\n",
    "for _ in range(std_cnt):\n",
    "    name = input('이름 > ')\n",
    "    score = input('점수 >')\n",
    "    scores[name] = score"
   ]
  },
  {
   "cell_type": "code",
   "execution_count": 98,
   "id": "9f791705",
   "metadata": {},
   "outputs": [
    {
     "name": "stdout",
     "output_type": "stream",
     "text": [
      "확인할 이름 > 김현주\n",
      "김현주 학생의 성적은 [30, 40] 입니다.\n"
     ]
    }
   ],
   "source": [
    "key = input('확인할 이름 > ')\n",
    "\n",
    "if scores.get(key):\n",
    "    print(f\"{key} 학생의 성적은 {scores.get(key)} 입니다.\")\n",
    "else:\n",
    "    print(f\"{key} 학생의 성적은 없습니다.\")"
   ]
  },
  {
   "cell_type": "code",
   "execution_count": null,
   "id": "1bf8e009",
   "metadata": {},
   "outputs": [],
   "source": []
  }
 ],
 "metadata": {
  "kernelspec": {
   "display_name": "Python 3 (ipykernel)",
   "language": "python",
   "name": "python3"
  },
  "language_info": {
   "codemirror_mode": {
    "name": "ipython",
    "version": 3
   },
   "file_extension": ".py",
   "mimetype": "text/x-python",
   "name": "python",
   "nbconvert_exporter": "python",
   "pygments_lexer": "ipython3",
   "version": "3.9.13"
  }
 },
 "nbformat": 4,
 "nbformat_minor": 5
}
