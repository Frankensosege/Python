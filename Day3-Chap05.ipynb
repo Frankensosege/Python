{
 "cells": [
  {
   "cell_type": "markdown",
   "id": "48839283",
   "metadata": {},
   "source": [
    "# Chap05 함수"
   ]
  },
  {
   "cell_type": "markdown",
   "id": "8a06aa3e",
   "metadata": {},
   "source": [
    "## Chap05-1 함수 만들기"
   ]
  },
  {
   "cell_type": "code",
   "execution_count": 1,
   "id": "8a819425",
   "metadata": {},
   "outputs": [
    {
     "ename": "SyntaxError",
     "evalue": "invalid syntax (1722609491.py, line 2)",
     "output_type": "error",
     "traceback": [
      "\u001b[1;36m  File \u001b[1;32m\"C:\\Users\\frank\\AppData\\Local\\Temp\\ipykernel_2404\\1722609491.py\"\u001b[1;36m, line \u001b[1;32m2\u001b[0m\n\u001b[1;33m    def 함수명(...):\u001b[0m\n\u001b[1;37m            ^\u001b[0m\n\u001b[1;31mSyntaxError\u001b[0m\u001b[1;31m:\u001b[0m invalid syntax\n"
     ]
    }
   ],
   "source": [
    "# 함수만들기\n",
    "def 함수명(...):\n",
    "    실행문장\n",
    "    ...\n",
    "    ..."
   ]
  },
  {
   "cell_type": "code",
   "execution_count": 20,
   "id": "5c74a596",
   "metadata": {},
   "outputs": [],
   "source": [
    "def print_3_times(): # 함수 정의\n",
    "    print(\"Hello\")\n",
    "    print(\"Hello\")\n",
    "    print(\"Hello\")\n",
    "\n",
    "def print_n_times(num, message): # 매개변수 선언\n",
    "    for _ in range(num):\n",
    "        print(message)\n",
    "        \n",
    "# 가변 매개변수 : *변수명\n",
    "def print_var_times(n, *values):\n",
    "    for _ in range(n):\n",
    "        for value in values:\n",
    "            print(value, end='\\t')\n",
    "        print()\n",
    "        \n",
    "# 기본매개변수 : 변수명 = 값\n",
    "def print_default_times(value, n=2):\n",
    "    for _ in range(n):\n",
    "        print(value)\n",
    "        \n",
    "# 일반, 가변, 기본(키워드) 순으로\n",
    "\n",
    "def test(a, b=10, c=100):\n",
    "    print(a + b + c)"
   ]
  },
  {
   "cell_type": "code",
   "execution_count": 21,
   "id": "43869003",
   "metadata": {},
   "outputs": [
    {
     "name": "stdout",
     "output_type": "stream",
     "text": [
      "Hello\n",
      "Hello\n",
      "Hello\n",
      "\n",
      "test\n",
      "test\n",
      "test\n",
      "test\n",
      "\n",
      "test\thello\t\n",
      "test\thello\t\n",
      "test\thello\t\n",
      "test\thello\t\n",
      "\n",
      "test\n",
      "test\n",
      "\n",
      "test\n",
      "test\n",
      "test\n"
     ]
    }
   ],
   "source": [
    "print_3_times()\n",
    "print()\n",
    "print_n_times(4, 'test')\n",
    "print()\n",
    "print_var_times(4, 'test', 'hello')\n",
    "print()\n",
    "print_default_times('test')\n",
    "print()\n",
    "print_default_times('test', n=3)"
   ]
  },
  {
   "cell_type": "code",
   "execution_count": 22,
   "id": "051aaad3",
   "metadata": {},
   "outputs": [
    {
     "name": "stdout",
     "output_type": "stream",
     "text": [
      "60\n",
      "310\n",
      "310\n",
      "220\n"
     ]
    }
   ],
   "source": [
    "# 1) 기본형태\n",
    "test(10, 20, 30)\n",
    "# 2) 키워드 매개변수로 모든 매개변수 지정\n",
    "test(a=10, b=100, c=200)\n",
    "# 3) 키워드 매개변수로 모든 매개변수를 마구잡이로 지정\n",
    "test(c=10, a=100, b=200)\n",
    "# 4) 키워드 매개변수로 일부 매개변수 지정\n",
    "test(10, c=200)"
   ]
  },
  {
   "cell_type": "code",
   "execution_count": 23,
   "id": "29ee91c6",
   "metadata": {},
   "outputs": [],
   "source": [
    "# return 있는 함수\n",
    "def hap(a, b):\n",
    "    return a + b\n",
    "    print('hap func') # 실행 안됨"
   ]
  },
  {
   "cell_type": "code",
   "execution_count": 26,
   "id": "598c82e2",
   "metadata": {},
   "outputs": [
    {
     "name": "stdout",
     "output_type": "stream",
     "text": [
      "10 + 20 =  30\n",
      "10 + 20 =  30\n"
     ]
    }
   ],
   "source": [
    "c = hap(10, 20)\n",
    "print(\"10 + 20 = \", c)\n",
    "print(\"10 + 20 = \", hap(10, 20))"
   ]
  },
  {
   "cell_type": "code",
   "execution_count": null,
   "id": "08f8ed11",
   "metadata": {},
   "outputs": [],
   "source": []
  }
 ],
 "metadata": {
  "kernelspec": {
   "display_name": "Python 3 (ipykernel)",
   "language": "python",
   "name": "python3"
  },
  "language_info": {
   "codemirror_mode": {
    "name": "ipython",
    "version": 3
   },
   "file_extension": ".py",
   "mimetype": "text/x-python",
   "name": "python",
   "nbconvert_exporter": "python",
   "pygments_lexer": "ipython3",
   "version": "3.9.13"
  }
 },
 "nbformat": 4,
 "nbformat_minor": 5
}
