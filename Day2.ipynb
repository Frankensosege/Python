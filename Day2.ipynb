{
 "cells": [
  {
   "cell_type": "code",
   "execution_count": 1,
   "id": "6e4f748a",
   "metadata": {},
   "outputs": [
    {
     "name": "stdout",
     "output_type": "stream",
     "text": [
      "False\n",
      "True\n"
     ]
    }
   ],
   "source": [
    "# 문자열 연산자 : in\n",
    "print('hello' in ' Hello python !!')\n",
    "print('H' in ' Hello python !!')"
   ]
  },
  {
   "cell_type": "code",
   "execution_count": 4,
   "id": "b88d59f5",
   "metadata": {},
   "outputs": [
    {
     "name": "stdout",
     "output_type": "stream",
     "text": [
      "['10', '20', '30']\n",
      "10\n"
     ]
    }
   ],
   "source": [
    "# 문자열 분리 : 문자열.split('분리구분자')\n",
    "a = \"10  20 30\".split()\n",
    "print(a)\n",
    "print(a[0])"
   ]
  },
  {
   "cell_type": "code",
   "execution_count": 6,
   "id": "019cd7fb",
   "metadata": {},
   "outputs": [
    {
     "name": "stdout",
     "output_type": "stream",
     "text": [
      "두수 입력 (ex:10 20)40 50\n",
      "['40', '50']\n",
      "40 + 50 = 90\n",
      "40 - 50 = -10\n"
     ]
    }
   ],
   "source": [
    "# 두수를 입력받아 리스트로 저장한 후 두수의 합 차\n",
    "in_data = input('두수 입력 (ex:10 20)').split()\n",
    "print(in_data)\n",
    "in_data[0] = int(in_data[0])\n",
    "in_data[1] = int(in_data[1])\n",
    "print(f'{in_data[0]} + {in_data[1]} = {in_data[0] + in_data[1]}')\n",
    "print(f'{in_data[0]} - {in_data[1]} = {in_data[0] - in_data[1]}')"
   ]
  },
  {
   "cell_type": "markdown",
   "id": "a1381b8b",
   "metadata": {},
   "source": [
    "# Chap03 조건문\n",
    "## chap03 -1 불 자료형과 if 조건문"
   ]
  },
  {
   "cell_type": "code",
   "execution_count": 7,
   "id": "1579ffc3",
   "metadata": {},
   "outputs": [
    {
     "name": "stdout",
     "output_type": "stream",
     "text": [
      "under_20 :  True\n",
      "not under_20 :  False\n"
     ]
    }
   ],
   "source": [
    "x = 10\n",
    "under_20 = x < 20\n",
    "print(\"under_20 : \", under_20)\n",
    "print(\"not under_20 : \", not under_20)"
   ]
  },
  {
   "cell_type": "code",
   "execution_count": 19,
   "id": "3a2b0383",
   "metadata": {},
   "outputs": [
    {
     "name": "stdout",
     "output_type": "stream",
     "text": [
      "True\n",
      "True\n",
      "if end\n"
     ]
    }
   ],
   "source": [
    "# if 조건문\n",
    "if True :\n",
    "    print('True')\n",
    "    print('True')\n",
    "print('if end')\n",
    "\n",
    "if False :\n",
    "    print('False')"
   ]
  },
  {
   "cell_type": "code",
   "execution_count": 20,
   "id": "248da92c",
   "metadata": {},
   "outputs": [
    {
     "name": "stdout",
     "output_type": "stream",
     "text": [
      "숫자 입력2\n",
      "양수\n"
     ]
    }
   ],
   "source": [
    "# 숫자를 입력받아 0보다 크면 양수 작으면 음수로 출력\n",
    "in_date = input(\"숫자 입력\")\n",
    "\n",
    "if in_date.isdecimal():\n",
    "    in_date = int(in_date)\n",
    "    if in_date > 0:\n",
    "        print('양수')\n",
    "    if in_date == 0:\n",
    "        print('Zero')\n",
    "    if in_date < 0:\n",
    "        print('음수')\n",
    "    "
   ]
  },
  {
   "cell_type": "code",
   "execution_count": 22,
   "id": "7fa2ed94",
   "metadata": {},
   "outputs": [
    {
     "name": "stdout",
     "output_type": "stream",
     "text": [
      "숫자 입력3\n",
      "홀수\n"
     ]
    }
   ],
   "source": [
    "# 숫자를 입력받아 짝수 이면 짝수 홀수 이면 홀수 출력\n",
    "in_date = input(\"숫자 입력\")\n",
    "\n",
    "# if in_date.isdecimal():\n",
    "#     in_date = int(in_date)\n",
    "#     if in_date % 2 == 1:\n",
    "#         print('홀수')\n",
    "#     if in_date % 2 == 0:\n",
    "#         print('짝수')\n",
    "        \n",
    "if in_date[-1] == \"1\" or in_date[-1] == \"3\" or in_date[-1] == \"5\" or in_date[-1] == \"7\" or in_date[-1] == \"9\" :\n",
    "#if in_date[-1] in '13579':\n",
    "    print('홀수')\n",
    "else :\n",
    "    print('짝수')"
   ]
  },
  {
   "cell_type": "code",
   "execution_count": 26,
   "id": "0ad9fae7",
   "metadata": {},
   "outputs": [
    {
     "name": "stdout",
     "output_type": "stream",
     "text": [
      "2023-02-01 10:40:46.172270\n",
      "2023년 2월 1일 10시 40분 46초\n",
      "현재 시간은 오전 10시 40분입니다.\n"
     ]
    }
   ],
   "source": [
    "#날짜함수 이용하기\n",
    "import datetime\n",
    "\n",
    "now = datetime.datetime.now()\n",
    "print(now)\n",
    "\n",
    "print('{}년 {}월 {}일 {}시 {}분 {}초'.format(now.year, now.month, now.day, now.hour, now.minute, now.second))\n",
    "\n",
    "if now.hour < 12 :\n",
    "    print('현재 시간은 오전 {}시 {}분입니다.'.format(now.hour, now.minute))\n",
    "if now.hour = 12 :\n",
    "    print('현재 시간은 오후 12시 {}분입니다.'.format(now.minute))\n",
    "if now.hour > 12 :\n",
    "    print('현재 시간은 오후 {}시 {}분입니다.'.format(now.hour - 12, now.minute))"
   ]
  },
  {
   "cell_type": "code",
   "execution_count": null,
   "id": "62190d80",
   "metadata": {},
   "outputs": [],
   "source": [
    "# if 표현식 : elif, else\n",
    "if in_date[-1] in '13579':\n",
    "    print('홀수')\n",
    "else :\n",
    "    print('짝수')"
   ]
  },
  {
   "cell_type": "code",
   "execution_count": 29,
   "id": "102474f3",
   "metadata": {},
   "outputs": [
    {
     "name": "stdout",
     "output_type": "stream",
     "text": [
      "현재는 겨울 입니다.\n"
     ]
    }
   ],
   "source": [
    "# 3월~5월 봄, 6월~8월 봄, 9월~11월 가을 else 겨울\n",
    "\n",
    "if 3 <= now.month >= 5:\n",
    "    season = '봄'\n",
    "elif 6 <= now.month >= 8:\n",
    "    season = '여름'\n",
    "elif 9 <= now.month >= 11:\n",
    "    season = '가을'\n",
    "else:\n",
    "    season = '겨울'\n",
    "    \n",
    "print(f\"현재는 {season} 입니다.\")"
   ]
  },
  {
   "cell_type": "code",
   "execution_count": 31,
   "id": "8fbdbfb7",
   "metadata": {},
   "outputs": [
    {
     "name": "stdout",
     "output_type": "stream",
     "text": [
      "zero 입니다.\n",
      "Blank 입니다.\n"
     ]
    }
   ],
   "source": [
    "if 0: #숫자인경우 0이면 False, 아니면 True\n",
    "    print('zero 입니다.') # 실행안됨\n",
    "if -10: #숫자인경우 0이면 False, 아니면 True\n",
    "    print('zero 입니다.') # 실행\n",
    "    \n",
    "if '': #문자인경우 Null이면 False, 아니면 True\n",
    "    print('아무 문자도 없습니다.') # 실행안됨\n",
    "if ' ': #문자인경우 Null이면 False, 아니면 True\n",
    "    print('Blank 입니다.') # 실행"
   ]
  },
  {
   "cell_type": "code",
   "execution_count": 34,
   "id": "37e6709b",
   "metadata": {},
   "outputs": [
    {
     "name": "stdout",
     "output_type": "stream",
     "text": [
      "10\n"
     ]
    }
   ],
   "source": [
    "num = 10\n",
    "if not num % 2:\n",
    "    print(num)\n",
    "    pass"
   ]
  },
  {
   "cell_type": "code",
   "execution_count": 38,
   "id": "2713bb73",
   "metadata": {},
   "outputs": [
    {
     "name": "stdout",
     "output_type": "stream",
     "text": [
      "입력 : 안녕 지금 몇시\n",
      "안녕하세요.\n",
      "지금은 10시 40분 입니다.\n"
     ]
    }
   ],
   "source": [
    "# 조건문 도전 문제\n",
    "# 1\n",
    "phrase = input('입력 : ')\n",
    "ok = False\n",
    "if '안녕' in phrase :\n",
    "    print('안녕하세요.')\n",
    "    ok = True\n",
    "if '몇 시' in phrase or \\\n",
    "   '몇시' in phrase:\n",
    "    print(f'지금은 {now.hour}시 {now.minute}분 입니다.')\n",
    "    ok = True\n",
    "if not ok :\n",
    "    print(phrase)"
   ]
  },
  {
   "cell_type": "code",
   "execution_count": 40,
   "id": "cadadcf3",
   "metadata": {},
   "outputs": [
    {
     "name": "stdout",
     "output_type": "stream",
     "text": [
      "정수를 입력하세요 : 3442\n",
      "3442은 2로 나누어 떨어지지않는 숫자입니다\n",
      "3442은 3로 나누어 떨어지는 숫자입니다\n",
      "3442은 4로 나누어 떨어지는 숫자입니다\n",
      "3442은 5로 나누어 떨어지는 숫자입니다\n"
     ]
    }
   ],
   "source": [
    "# 조건문 도전 문제\n",
    "# 2\n",
    "num = input('정수를 입력하세요 : ')\n",
    "\n",
    "if num.isdecimal() :\n",
    "    if int(num) % 2:\n",
    "        print(f'{num}은 2로 나누어 떨어지는 숫자입니다')\n",
    "    else:\n",
    "        print(f'{num}은 2로 나누어 떨어지지않는 숫자입니다')\n",
    "    \n",
    "    if int(num) % 3:\n",
    "        print(f'{num}은 3로 나누어 떨어지는 숫자입니다')\n",
    "    else:\n",
    "        print(f'{num}은 3로 나누어 떨어지지않는 숫자입니다')\n",
    "    \n",
    "    if int(num) % 4:\n",
    "        print(f'{num}은 4로 나누어 떨어지는 숫자입니다')\n",
    "    else:\n",
    "        print(f'{num}은 4로 나누어 떨어지지않는 숫자입니다')\n",
    "    \n",
    "    if int(num) % 5:\n",
    "        print(f'{num}은 5로 나누어 떨어지는 숫자입니다')\n",
    "    else:\n",
    "        print(f'{num}은 5로 나누어 떨어지지않는 숫자입니다')\n",
    "else :\n",
    "    print('정수를 입력하세요...')"
   ]
  },
  {
   "cell_type": "code",
   "execution_count": null,
   "id": "e7561e6f",
   "metadata": {},
   "outputs": [],
   "source": []
  }
 ],
 "metadata": {
  "kernelspec": {
   "display_name": "Python 3 (ipykernel)",
   "language": "python",
   "name": "python3"
  },
  "language_info": {
   "codemirror_mode": {
    "name": "ipython",
    "version": 3
   },
   "file_extension": ".py",
   "mimetype": "text/x-python",
   "name": "python",
   "nbconvert_exporter": "python",
   "pygments_lexer": "ipython3",
   "version": "3.9.13"
  }
 },
 "nbformat": 4,
 "nbformat_minor": 5
}
