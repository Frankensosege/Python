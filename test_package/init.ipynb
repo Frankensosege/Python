{
 "cells": [
  {
   "cell_type": "code",
   "execution_count": null,
   "id": "5960e224",
   "metadata": {},
   "outputs": [],
   "source": [
    "__all__ = [\"module_a\", \"module_b\"]\n",
    "\n",
    "print(\"test Package를 읽습니다.\")"
   ]
  }
 ],
 "metadata": {
  "kernelspec": {
   "display_name": "Python 3 (ipykernel)",
   "language": "python",
   "name": "python3"
  },
  "language_info": {
   "codemirror_mode": {
    "name": "ipython",
    "version": 3
   },
   "file_extension": ".py",
   "mimetype": "text/x-python",
   "name": "python",
   "nbconvert_exporter": "python",
   "pygments_lexer": "ipython3",
   "version": "3.9.13"
  }
 },
 "nbformat": 4,
 "nbformat_minor": 5
}
