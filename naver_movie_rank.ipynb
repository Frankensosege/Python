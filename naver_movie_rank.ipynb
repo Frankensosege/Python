{
 "cells": [
  {
   "cell_type": "markdown",
   "id": "19792db8",
   "metadata": {},
   "source": [
    "# 네이버 영화 랭킹 검색하기\n",
    "url = \"https://movie.naver.com/movie/sdb/rank/rmovie.naver?sel=cur&date=20230205\""
   ]
  },
  {
   "cell_type": "code",
   "execution_count": 5,
   "id": "2bf70446",
   "metadata": {},
   "outputs": [],
   "source": [
    "from urllib import request\n",
    "from bs4 import BeautifulSoup\n",
    "\n",
    "# urlopen() 로 네이버 영화 랭킹페이지 읽어 오기\n",
    "target = request.urlopen(\"https://movie.naver.com/movie/sdb/rank/rmovie.naver?sel=cur&date=20230205\")\n",
    "soup = BeautifulSoup(target.read())\n",
    "#print(soup)"
   ]
  },
  {
   "cell_type": "code",
   "execution_count": 10,
   "id": "042e968d",
   "metadata": {},
   "outputs": [
    {
     "name": "stdout",
     "output_type": "stream",
     "text": [
      "1 더 퍼스트 슬램덩크 9.48\n",
      "2 주토피아 9.36\n",
      "3 코코 9.32\n",
      "4 올빼미 9.31\n",
      "5 소울 9.31\n",
      "6 극장판 주술회전 0 9.21\n",
      "7 코다 9.14\n",
      "8 러브레터 9.14\n",
      "9 겨울왕국 9.12\n",
      "10 인사이드 아웃 9.08\n",
      "11 탄생 9.08\n",
      "12 비긴 어게인 9.04\n",
      "13 영웅 9.00\n",
      "14 장화신은 고양이: 끝내주는 모험 8.87\n",
      "15 너의 이름은. 8.81\n",
      "16 여름날 우리 8.76\n",
      "17 카사블랑카 8.76\n",
      "18 겨울왕국 2 8.69\n",
      "19 아바타: 물의 길 8.65\n",
      "20 오늘 밤, 세계에서 이 사랑이 사라진다 해도 8.64\n",
      "21 헤어질 결심 8.64\n",
      "22 라라랜드 8.63\n",
      "23 양자경의 더 모든 날 모든 순간 8.56\n",
      "24 졸업 8.46\n",
      "25 드라이브 마이 카 8.42\n",
      "26 상견니 8.41\n",
      "27 스위치 8.41\n",
      "28 거북이는 의외로 빨리 헤엄친다 8.22\n",
      "29 애프터 양 8.20\n",
      "30 언어의 정원 8.17\n",
      "31 본즈 앤 올 8.07\n",
      "32 날씨의 아이 7.97\n",
      "33 라일 라일 크로커다일 7.97\n",
      "34 3000년의 기다림 7.93\n",
      "35 별을 쫓는 아이 7.90\n",
      "36 바빌론 7.76\n",
      "37 사랑할 땐 누구나 최악이 된다 7.73\n",
      "38 메간 7.34\n",
      "39 유령 6.94\n",
      "40 원피스 필름 레드 6.82\n",
      "41 교섭 6.12\n",
      "42 강남좀비 2.81\n"
     ]
    }
   ],
   "source": [
    "# 영화 제목, 평점을 출력 -> 순위대로\n",
    "# 1. 더 슬램 덩크 9.48\n",
    "# ...\n",
    "# <tr> 태그 검색\n",
    "movie_title = []\n",
    "movie_point = []\n",
    "\n",
    "for line in soup.find_all('tr'):\n",
    "    title = line.find('div', class_='tit5') # div 태그에 class 명이 tit5\n",
    "    if title: # 영화 제목이 존재하면 movie_title 리스트에 제목 추가\n",
    "        movie_title.append(title.get_text().strip())\n",
    "    point = line.find('td', class_='point')\n",
    "    if point: # 영화 제목이 존재하면 movie_title 리스트에 제목 추가\n",
    "        movie_point.append(point.get_text())\n",
    "\n",
    "# zip(리스트1, 리스트2, ...)\n",
    "for rank, (title, point) in enumerate(zip(movie_title, movie_point)):\n",
    "    print(rank+1, title, point)"
   ]
  }
 ],
 "metadata": {
  "kernelspec": {
   "display_name": "Python 3 (ipykernel)",
   "language": "python",
   "name": "python3"
  },
  "language_info": {
   "codemirror_mode": {
    "name": "ipython",
    "version": 3
   },
   "file_extension": ".py",
   "mimetype": "text/x-python",
   "name": "python",
   "nbconvert_exporter": "python",
   "pygments_lexer": "ipython3",
   "version": "3.9.13"
  }
 },
 "nbformat": 4,
 "nbformat_minor": 5
}
