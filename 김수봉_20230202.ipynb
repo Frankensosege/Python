{
 "cells": [
  {
   "cell_type": "code",
   "execution_count": 3,
   "id": "58786c4f",
   "metadata": {},
   "outputs": [
    {
     "name": "stdout",
     "output_type": "stream",
     "text": [
      "{'name': '기사', 'hp': 200, 'mp': 30, 'level': 5}\n"
     ]
    }
   ],
   "source": [
    "# Chap4-3 확인문제 2\n",
    "key_list = [\"name\", \"hp\", \"mp\", \"level\"]\n",
    "value_list = [\"기사\", 200, 30, 5]\n",
    "character = {}\n",
    "\n",
    "for i in range(len(key_list)):\n",
    "    character[key_list[i]] = value_list[i]\n",
    "    \n",
    "print(character)"
   ]
  },
  {
   "cell_type": "code",
   "execution_count": 7,
   "id": "245f89e3",
   "metadata": {},
   "outputs": [
    {
     "name": "stdout",
     "output_type": "stream",
     "text": [
      "141를 더할 때 10000을 넘으며 그때의 값은 10011 입니다.\n"
     ]
    }
   ],
   "source": [
    "# Chap4-3 확인문제 3\n",
    "i = 0\n",
    "tot = 0\n",
    "while tot <= 10000:\n",
    "    i += 1\n",
    "    tot += i\n",
    "    \n",
    "print(f\"{i}를 더할 때 10000을 넘으며 그때의 값은 {tot} 입니다.\")"
   ]
  },
  {
   "cell_type": "code",
   "execution_count": 9,
   "id": "fe2ee899",
   "metadata": {},
   "outputs": [
    {
     "name": "stdout",
     "output_type": "stream",
     "text": [
      "최대가 되는 경우 50 * 50 = 2500\n"
     ]
    }
   ],
   "source": [
    "# Chap4-3 확인문제 4\n",
    "i = 1\n",
    "max = 0\n",
    "for i in range(100):\n",
    "    muti = i * (100 - i)\n",
    "    if max < muti:\n",
    "        max = muti\n",
    "        l_i = i\n",
    "        r_i = 100 - i\n",
    "print(f'최대가 되는 경우 {l_i} * {r_i} = {max}')"
   ]
  },
  {
   "cell_type": "code",
   "execution_count": 13,
   "id": "2ed9ac1c",
   "metadata": {},
   "outputs": [
    {
     "name": "stdout",
     "output_type": "stream",
     "text": [
      "[1, 2, 3, 4, 1, 2, 3, 1, 4, 1, 2, 3] 에서 사용된 수는 4개 입니다.\n"
     ]
    }
   ],
   "source": [
    "# Chap4-4 도전문제 1\n",
    "list_a = [1, 2, 3, 4, 1, 2, 3, 1, 4, 1, 2, 3]\n",
    "dict_a = {}\n",
    "for i in list_a:\n",
    "    dict_a[i] = i\n",
    "print(list_a, f\"에서 사용된 수는 {len(dict_a)}개 입니다.\")"
   ]
  },
  {
   "cell_type": "code",
   "execution_count": 19,
   "id": "79064a41",
   "metadata": {},
   "outputs": [
    {
     "name": "stdout",
     "output_type": "stream",
     "text": [
      "34\n",
      "a의 갯수 :  9\n",
      "c의 갯수 :  9\n",
      "g의 갯수 :  6\n",
      "t의 갯수 :  10\n"
     ]
    }
   ],
   "source": [
    "# Chap4-4 도전문제 2\n",
    "dna_seq = input(\"염기서열을 입력하세요 > \")\n",
    "print(len(dna_seq))\n",
    "print('a의 갯수 : ', dna_seq.count('a'))\n",
    "print('c의 갯수 : ', dna_seq.count('c'))\n",
    "print('g의 갯수 : ', dna_seq.count('g'))\n",
    "print('t의 갯수 : ', dna_seq.count('t'))"
   ]
  },
  {
   "cell_type": "code",
   "execution_count": 48,
   "id": "0ced122e",
   "metadata": {},
   "outputs": [
    {
     "name": "stdout",
     "output_type": "stream",
     "text": [
      "염기서열을 입력하세요 > acct\n",
      "{'acc': 1}\n"
     ]
    }
   ],
   "source": [
    "# Chap4-4 도전문제 3\n",
    "dna_seq = input(\"염기서열을 입력하세요 > \")\n",
    "codons = {}\n",
    "\n",
    "for i in range(0, len(dna_seq), 3):\n",
    "    if i+3 > len(dna_seq):\n",
    "        break\n",
    "    if dna_seq[i: i+3] in codons:\n",
    "        codons[dna_seq[i: i+3]] += 1\n",
    "    else:\n",
    "        codons[dna_seq[i: i+3]] = 1\n",
    "print(codons)\n",
    "    "
   ]
  },
  {
   "cell_type": "code",
   "execution_count": 2,
   "id": "95300fb3",
   "metadata": {},
   "outputs": [
    {
     "name": "stdout",
     "output_type": "stream",
     "text": [
      "[1, 2, [3, 4], 5, [6, 7], [8, 9]] 를 평탄화 하면\n",
      "[1, 2, 3, 4, 5, 6, 7, 8, 9] 입니다\n"
     ]
    }
   ],
   "source": [
    "# Chap4-4 도전문제 4\n",
    "list_a = [1,2,[3,4], 5, [6, 7], [8, 9]]\n",
    "list_b = []\n",
    "for val in list_a:\n",
    "    if type(val) == list:\n",
    "        list_b.extend(val)\n",
    "    else:\n",
    "        list_b.append(val)\n",
    "        \n",
    "print(f'{list_a} 를 평탄화 하면\\n{list_b} 입니다')"
   ]
  }
 ],
 "metadata": {
  "kernelspec": {
   "display_name": "Python 3 (ipykernel)",
   "language": "python",
   "name": "python3"
  },
  "language_info": {
   "codemirror_mode": {
    "name": "ipython",
    "version": 3
   },
   "file_extension": ".py",
   "mimetype": "text/x-python",
   "name": "python",
   "nbconvert_exporter": "python",
   "pygments_lexer": "ipython3",
   "version": "3.9.13"
  }
 },
 "nbformat": 4,
 "nbformat_minor": 5
}
