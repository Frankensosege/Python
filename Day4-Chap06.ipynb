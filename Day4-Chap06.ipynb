{
 "cells": [
  {
   "cell_type": "markdown",
   "id": "a8a7d224",
   "metadata": {},
   "source": [
    "# Chap06 예외 처리"
   ]
  },
  {
   "cell_type": "code",
   "execution_count": null,
   "id": "da42008f",
   "metadata": {},
   "outputs": [],
   "source": [
    "# 구문 오류 : syntax error\n",
    "print(\"test)\n",
    "a=1"
   ]
  },
  {
   "cell_type": "code",
   "execution_count": 1,
   "id": "807f4d8b",
   "metadata": {},
   "outputs": [
    {
     "ename": "NameError",
     "evalue": "name 'list_a' is not defined",
     "output_type": "error",
     "traceback": [
      "\u001b[1;31m---------------------------------------------------------------------------\u001b[0m",
      "\u001b[1;31mNameError\u001b[0m                                 Traceback (most recent call last)",
      "\u001b[1;32m~\\AppData\\Local\\Temp\\ipykernel_9828\\3118719615.py\u001b[0m in \u001b[0;36m<module>\u001b[1;34m\u001b[0m\n\u001b[1;32m----> 1\u001b[1;33m \u001b[0mlist_a\u001b[0m\u001b[1;33m[\u001b[0m\u001b[1;36m1\u001b[0m\u001b[1;33m]\u001b[0m\u001b[1;33m\u001b[0m\u001b[1;33m\u001b[0m\u001b[0m\n\u001b[0m",
      "\u001b[1;31mNameError\u001b[0m: name 'list_a' is not defined"
     ]
    }
   ],
   "source": [
    "#list_a = [1, 2, 3]\n",
    "list_a[1] # 변수 또는 객체를 선언하지안ㄹ고 접근 하려고 할때\n",
    "\n",
    "list_a[4] # index 범위 error"
   ]
  },
  {
   "cell_type": "code",
   "execution_count": 3,
   "id": "5cb70fb4",
   "metadata": {},
   "outputs": [
    {
     "name": "stdout",
     "output_type": "stream",
     "text": [
      "정수입력 > d\n"
     ]
    },
    {
     "ename": "ValueError",
     "evalue": "invalid literal for int() with base 10: 'd'",
     "output_type": "error",
     "traceback": [
      "\u001b[1;31m---------------------------------------------------------------------------\u001b[0m",
      "\u001b[1;31mValueError\u001b[0m                                Traceback (most recent call last)",
      "\u001b[1;32m~\\AppData\\Local\\Temp\\ipykernel_9828\\3126989169.py\u001b[0m in \u001b[0;36m<module>\u001b[1;34m\u001b[0m\n\u001b[0;32m      1\u001b[0m \u001b[1;31m# 예외 상황 확인하기\u001b[0m\u001b[1;33m\u001b[0m\u001b[1;33m\u001b[0m\u001b[0m\n\u001b[0;32m      2\u001b[0m \u001b[1;31m# 숫자 입력\u001b[0m\u001b[1;33m\u001b[0m\u001b[1;33m\u001b[0m\u001b[0m\n\u001b[1;32m----> 3\u001b[1;33m \u001b[0mnumber\u001b[0m \u001b[1;33m=\u001b[0m \u001b[0mint\u001b[0m\u001b[1;33m(\u001b[0m\u001b[0minput\u001b[0m\u001b[1;33m(\u001b[0m\u001b[1;34m\"정수입력 > \"\u001b[0m\u001b[1;33m)\u001b[0m\u001b[1;33m)\u001b[0m\u001b[1;33m\u001b[0m\u001b[1;33m\u001b[0m\u001b[0m\n\u001b[0m\u001b[0;32m      4\u001b[0m \u001b[1;33m\u001b[0m\u001b[0m\n\u001b[0;32m      5\u001b[0m \u001b[1;31m#결과출력\u001b[0m\u001b[1;33m\u001b[0m\u001b[1;33m\u001b[0m\u001b[0m\n",
      "\u001b[1;31mValueError\u001b[0m: invalid literal for int() with base 10: 'd'"
     ]
    }
   ],
   "source": [
    "# 예외 상황 확인하기\n",
    "# 숫자 입력\n",
    "number = int(input(\"정수입력 > \"))\n",
    "#number = input(\"정수입력 > \")\n",
    "# if number.isdigit():\n",
    "#     number = int(number)\n",
    "\n",
    "#결과출력\n",
    "print(\"원의 반지름 : \", number)\n",
    "print(\"원의 둘래 : \", number * 2 * 3.14)\n",
    "print(\"원의 넓 : \", number * number * 3.14)"
   ]
  },
  {
   "cell_type": "code",
   "execution_count": 4,
   "id": "cc8c496f",
   "metadata": {},
   "outputs": [
    {
     "name": "stdout",
     "output_type": "stream",
     "text": [
      "정수입력 > ㄷ\n",
      "정수를 입력하세요\n"
     ]
    }
   ],
   "source": [
    "# try : 예외가 발생할 수 있는 코드 작성\n",
    "# except : 에러 처리구문\n",
    "\n",
    "try:\n",
    "    number = int(input(\"정수입력 > \"))\n",
    "    print(\"원의 반지름 : \", number)\n",
    "    print(\"원의 둘래 : \", number * 2 * 3.14)\n",
    "    print(\"원의 넓 : \", number * number * 3.14)\n",
    "except:\n",
    "    print(\"정수를 입력하세요\")"
   ]
  },
  {
   "cell_type": "code",
   "execution_count": 6,
   "id": "093c114e",
   "metadata": {},
   "outputs": [
    {
     "name": "stdout",
     "output_type": "stream",
     "text": [
      "정수를 입력하세요\n"
     ]
    }
   ],
   "source": [
    "# try : 예외가 발생할 수 있는 코드 작성\n",
    "# except : 에러 처리구문\n",
    "# else : 정상일때\n",
    "try:\n",
    "    number = int(input(\"정수입력 > \"))\n",
    "except:\n",
    "    print(\"정수를 입력하세요\")\n",
    "else:\n",
    "    # 결과 출력\n",
    "    print(\"원의 반지름 : \", number)\n",
    "    print(\"원의 둘래 : \", number * 2 * 3.14)\n",
    "    print(\"원의 넓 : \", number * number * 3.14)"
   ]
  },
  {
   "cell_type": "code",
   "execution_count": 9,
   "id": "5c46c704",
   "metadata": {},
   "outputs": [
    {
     "name": "stdout",
     "output_type": "stream",
     "text": [
      "정수입력 > 3\n",
      "원의 반지름 :  3\n",
      "원의 둘래 :  18.84\n",
      "원의 넓 :  28.26\n",
      "end...\n"
     ]
    }
   ],
   "source": [
    "### try : 예외가 발생할 수 있는 코드 작성\n",
    "# except : 에러 처리구문\n",
    "# else : 정상일때\n",
    "# finally : 무조건 실행 -> file close()\n",
    "try:\n",
    "    number = int(input(\"정수입력 > \"))\n",
    "except:\n",
    "    print(\"정수를 입력하세요\")\n",
    "else:\n",
    "    # 결과 출력\n",
    "    print(\"원의 반지름 : \", number)\n",
    "    print(\"원의 둘래 : \", number * 2 * 3.14)\n",
    "    print(\"원의 넓 : \", number * number * 3.14)\n",
    "finally:\n",
    "    print('end...')"
   ]
  },
  {
   "cell_type": "code",
   "execution_count": 11,
   "id": "6b756148",
   "metadata": {},
   "outputs": [
    {
     "name": "stdout",
     "output_type": "stream",
     "text": [
      "[Errno 2] No such file or directory: 'test.txt'\n"
     ]
    }
   ],
   "source": [
    "# try ~ except 구문사용\n",
    "try:\n",
    "    # 파일 open\n",
    "    file = open('test.txt', 'r')\n",
    "    file.close()\n",
    "except Exception as e: # Exception -> ValueError, IndexError, Exception\n",
    "    print(e)"
   ]
  },
  {
   "cell_type": "code",
   "execution_count": 13,
   "id": "689f6fdf",
   "metadata": {},
   "outputs": [
    {
     "name": "stdout",
     "output_type": "stream",
     "text": [
      "test 함수입니다.\n",
      "try start ...\n",
      "finally ...\n"
     ]
    }
   ],
   "source": [
    "# try 구문내에서 return을 사용하는 경우\n",
    "def test():\n",
    "    print('test 함수입니다.')\n",
    "    try:\n",
    "        print('try start ...')\n",
    "        return\n",
    "        print('try end ...')\n",
    "    except:\n",
    "        print('except ...')\n",
    "    else:\n",
    "        print('else ...')\n",
    "    finally:\n",
    "        print('finally ...')\n",
    "    print('test endline')\n",
    "\n",
    "test()"
   ]
  },
  {
   "cell_type": "code",
   "execution_count": 14,
   "id": "90d97717",
   "metadata": {},
   "outputs": [
    {
     "name": "stdout",
     "output_type": "stream",
     "text": [
      "file close..\n"
     ]
    }
   ],
   "source": [
    "def file_write(filename, text):\n",
    "    try:\n",
    "        file = open(filename, 'w') # file open\n",
    "        return\n",
    "        file.write(text)\n",
    "    except Exception:\n",
    "        print(Exception)\n",
    "    finally:\n",
    "        print('file close..')\n",
    "        file.close()\n",
    "        \n",
    "file_write('test.txt', 'test')"
   ]
  },
  {
   "cell_type": "code",
   "execution_count": 16,
   "id": "d8b01dff",
   "metadata": {},
   "outputs": [
    {
     "name": "stdout",
     "output_type": "stream",
     "text": [
      "try start ...\n",
      "finally ...\n",
      "program end...\n"
     ]
    }
   ],
   "source": [
    "# 반복문 안에서 try ~ finally 사용\n",
    "while True:\n",
    "    try:\n",
    "        print('try start ...')\n",
    "        break\n",
    "        print('try end ...')\n",
    "    except:\n",
    "        print('except ...')\n",
    "    finally:\n",
    "        print('finally ...')\n",
    "print('program end...')"
   ]
  },
  {
   "cell_type": "code",
   "execution_count": null,
   "id": "0d441a37",
   "metadata": {},
   "outputs": [],
   "source": []
  }
 ],
 "metadata": {
  "kernelspec": {
   "display_name": "Python 3 (ipykernel)",
   "language": "python",
   "name": "python3"
  },
  "language_info": {
   "codemirror_mode": {
    "name": "ipython",
    "version": 3
   },
   "file_extension": ".py",
   "mimetype": "text/x-python",
   "name": "python",
   "nbconvert_exporter": "python",
   "pygments_lexer": "ipython3",
   "version": "3.9.13"
  }
 },
 "nbformat": 4,
 "nbformat_minor": 5
}
